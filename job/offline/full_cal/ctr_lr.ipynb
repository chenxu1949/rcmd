{
 "cells": [
  {
   "cell_type": "code",
   "execution_count": 2,
   "metadata": {},
   "outputs": [],
   "source": [
    "import os\n",
    "import sys\n",
    "# 如果当前代码文件运行测试需要加入修改路径，避免出现后导包问题\n",
    "BASE_DIR = os.path.dirname(os.path.dirname(os.getcwd()))\n",
    "sys.path.insert(0, os.path.join(BASE_DIR))\n",
    "\n",
    "PYSPARK_PYTHON = \"/root/miniconda3/envs/test/bin/python3.6\"\n",
    "# 当存在多个版本时，不指定很可能会导致出错\n",
    "os.environ[\"PYSPARK_PYTHON\"] = PYSPARK_PYTHON\n",
    "os.environ[\"PYSPARK_DRIVER_PYTHON\"] = PYSPARK_PYTHON\n",
    "\n",
    "from pyspark.ml.feature import OneHotEncoder\n",
    "from pyspark.ml.feature import StringIndexer\n",
    "from pyspark.ml import Pipeline\n",
    "from pyspark.sql.types import *\n",
    "from pyspark.ml.feature import VectorAssembler\n",
    "from pyspark.ml.classification import LogisticRegression\n",
    "from pyspark.ml.classification import LogisticRegressionModel\n",
    "from offline import SparkSessionBase\n",
    "\n",
    "class CtrLogisticRegression(SparkSessionBase):\n",
    "\n",
    "    SPARK_APP_NAME = \"ctrLogisticRegression\"\n",
    "    ENABLE_HIVE_SUPPORT = True\n",
    "\n",
    "    def __init__(self):\n",
    "\n",
    "        self.spark = self._create_spark_hbase()\n",
    "\n",
    "ctr = CtrLogisticRegression()"
   ]
  },
  {
   "cell_type": "code",
   "execution_count": 3,
   "metadata": {},
   "outputs": [
    {
     "data": {
      "text/plain": [
       "DataFrame[]"
      ]
     },
     "execution_count": 3,
     "metadata": {},
     "output_type": "execute_result"
    }
   ],
   "source": [
    "ctr.spark.sql(\"use profile\")"
   ]
  },
  {
   "cell_type": "code",
   "execution_count": 4,
   "metadata": {},
   "outputs": [
    {
     "name": "stdout",
     "output_type": "stream",
     "text": [
      "+-------------------+----------+-------+\n",
      "|            user_id|article_id|clicked|\n",
      "+-------------------+----------+-------+\n",
      "|1105045287866466304|     14225|  false|\n",
      "|1106476833370537984|     14208|  false|\n",
      "|1109980466942836736|     19233|  false|\n",
      "|1109980466942836736|     44737|  false|\n",
      "|1109993249109442560|     17283|  false|\n",
      "|1111189494544990208|     19322|  false|\n",
      "|                  1|     44386|   true|\n",
      "|                  1|     44696|  false|\n",
      "|                 10|     43907|  false|\n",
      "|1105093883106164736|    140357|  false|\n",
      "|1106473203766657024|     16005|  false|\n",
      "|1108264901190615040|     15196|  false|\n",
      "|1109976363453906944|     13728|   true|\n",
      "|1109979805106831360|     43907|  false|\n",
      "|                 33|     13570|  false|\n",
      "|                  1|     17632|   true|\n",
      "|1106473203766657024|     17665|  false|\n",
      "|1109976363453906944|     44664|  false|\n",
      "|1109979805106831360|     17283|  false|\n",
      "|1111189494544990208|     44368|  false|\n",
      "+-------------------+----------+-------+\n",
      "only showing top 20 rows\n",
      "\n"
     ]
    }
   ],
   "source": [
    "# 用户行为日志读取\n",
    "user_article_basic = ctr.spark.sql(\"select user_id,article_id,clicked from user_article_basic\")\n",
    "user_article_basic.show()"
   ]
  },
  {
   "cell_type": "code",
   "execution_count": 5,
   "metadata": {},
   "outputs": [
    {
     "name": "stdout",
     "output_type": "stream",
     "text": [
      "+-------------------+----------+-------+\n",
      "|            user_id|article_id|clicked|\n",
      "+-------------------+----------+-------+\n",
      "|1105045287866466304|         1|  false|\n",
      "|1106476833370537984|         2|  false|\n",
      "|1109980466942836736|        10|  false|\n",
      "|1109980466942836736|        10|  false|\n",
      "|1109993249109442560|        10|  false|\n",
      "|1111189494544990208|        10|  false|\n",
      "|                  1|         3|   true|\n",
      "|                  1|         4|  false|\n",
      "|                 10|         5|  false|\n",
      "|1105093883106164736|         6|  false|\n",
      "|1106473203766657024|         7|  false|\n",
      "|1108264901190615040|        10|  false|\n",
      "|1109976363453906944|        10|   true|\n",
      "|1109979805106831360|         5|  false|\n",
      "|                 33|         8|  false|\n",
      "|                  1|         9|   true|\n",
      "|1106473203766657024|        10|  false|\n",
      "|1109976363453906944|        10|  false|\n",
      "|1109979805106831360|        10|  false|\n",
      "|1111189494544990208|        10|  false|\n",
      "+-------------------+----------+-------+\n",
      "only showing top 20 rows\n",
      "\n"
     ]
    }
   ],
   "source": [
    "# 因为测试数据的article_profile中只有1~10篇文章，与用户行为表的article_id没有交集，因此转换article_id\n",
    "def change_article_id(row):\n",
    "    if row.article_id == 14225:\n",
    "        article_id = 1\n",
    "    elif row.article_id == 14208:\n",
    "        article_id = 2\n",
    "    elif row.article_id == 44386:\n",
    "        article_id = 3\n",
    "    elif row.article_id == 44696:\n",
    "        article_id = 4\n",
    "    elif row.article_id == 43907:\n",
    "        article_id = 5\n",
    "    elif row.article_id == 140357:\n",
    "        article_id = 6\n",
    "    elif row.article_id == 16005:\n",
    "        article_id = 7 \n",
    "    elif row.article_id == 13570:\n",
    "        article_id = 8\n",
    "    elif row.article_id == 17632:\n",
    "        article_id = 9\n",
    "    else:\n",
    "        article_id = 10\n",
    "    return row.user_id,article_id,row.clicked\n",
    "\n",
    "user_article_basic = user_article_basic.rdd.map(change_article_id).toDF([\"user_id\",\"article_id\",\"clicked\"])\n",
    "\n",
    "user_article_basic.show()"
   ]
  },
  {
   "cell_type": "code",
   "execution_count": 6,
   "metadata": {},
   "outputs": [
    {
     "name": "stdout",
     "output_type": "stream",
     "text": [
      "+--------------------+--------+------+--------------------+-----+\n",
      "|             user_id|birthday|gender|     article_partial|  env|\n",
      "+--------------------+--------+------+--------------------+-----+\n",
      "|              user:1|     0.0|  null|Map(17:span -> 0....|Map()|\n",
      "|             user:10|     0.0|  null|Map(17:span -> 0....|Map()|\n",
      "|             user:11|     0.0|  null|               Map()|Map()|\n",
      "|user:110249052282...|     0.0|  null|               Map()|Map()|\n",
      "|user:110256196274...|     0.0|  null|               Map()|Map()|\n",
      "|user:110319567345...|     0.0|  null|Map(17:production...|Map()|\n",
      "|user:110504528786...|     0.0|  null|Map(17:production...|Map()|\n",
      "|user:110509388310...|     0.0|  null|Map(17:production...|Map()|\n",
      "|user:110510518565...|     0.0|  null|Map(17:production...|Map()|\n",
      "|user:110639618314...|     0.0|  null|Map(17:production...|Map()|\n",
      "|user:110647320376...|     0.0|  null|Map(17:production...|Map()|\n",
      "|user:110647683337...|     0.0|  null|Map(17:production...|Map()|\n",
      "|user:110826490119...|    null|  null|Map(17:Web -> 0.8...|Map()|\n",
      "|user:110997636345...|    null|  null|Map(17:Web -> 0.1...|Map()|\n",
      "|user:110997980510...|    null|  null|Map(17:Web -> 0.1...|Map()|\n",
      "|user:110998046694...|    null|  null|Map(17:版本 -> 0.14...|Map()|\n",
      "|user:110998427383...|    null|  null|Map(17:Web -> 0.1...|Map()|\n",
      "|user:110999324910...|    null|  null|Map(17:Web -> 0.1...|Map()|\n",
      "|user:110999459420...|    null|  null|Map(17:Web -> 0.1...|Map()|\n",
      "|user:110999526437...|    null|  null|Map(17:Web -> 0.1...|Map()|\n",
      "+--------------------+--------+------+--------------------+-----+\n",
      "only showing top 20 rows\n",
      "\n"
     ]
    }
   ],
   "source": [
    "# 2.读取用户画像\n",
    "user_profile_hbase = ctr.spark.sql(\"select user_id,information.birthday,information.gender,article_partial,env from user_profile_hbase\")\n",
    "user_profile_hbase.show()"
   ]
  },
  {
   "cell_type": "code",
   "execution_count": 7,
   "metadata": {},
   "outputs": [],
   "source": [
    "_schema = StructType([\n",
    "    StructField(\"user_id\",LongType()),\n",
    "    StructField(\"birthday\",DoubleType()),\n",
    "    StructField(\"gender\",BooleanType()),\n",
    "    StructField(\"weights\",MapType(StringType(),DoubleType()))\n",
    "])"
   ]
  },
  {
   "cell_type": "code",
   "execution_count": 8,
   "metadata": {},
   "outputs": [],
   "source": [
    "def get_user_id(row):\n",
    "    return int(row.user_id.split(\":\")[1]),row.birthday,row.gender,row.article_partial"
   ]
  },
  {
   "cell_type": "code",
   "execution_count": 9,
   "metadata": {},
   "outputs": [],
   "source": [
    "# 3.用户行为日志和用户画像合并\n",
    "user_profile_hbase_temp = user_profile_hbase.rdd.map(get_user_id)\n",
    "user_profile_hbase_schema = ctr.spark.createDataFrame(user_profile_hbase_temp,schema=_schema)"
   ]
  },
  {
   "cell_type": "code",
   "execution_count": 10,
   "metadata": {},
   "outputs": [
    {
     "name": "stdout",
     "output_type": "stream",
     "text": [
      "+-------------------+----------+-------+--------+------+--------------------+\n",
      "|            user_id|article_id|clicked|birthday|gender|             weights|\n",
      "+-------------------+----------+-------+--------+------+--------------------+\n",
      "|1106473203766657024|         7|  false|     0.0|  null|Map(17:production...|\n",
      "|1106473203766657024|        10|  false|     0.0|  null|Map(17:production...|\n",
      "|1106473203766657024|        10|  false|     0.0|  null|Map(17:production...|\n",
      "|1106473203766657024|         3|  false|     0.0|  null|Map(17:production...|\n",
      "|1106473203766657024|        10|  false|     0.0|  null|Map(17:production...|\n",
      "|1106473203766657024|        10|  false|     0.0|  null|Map(17:production...|\n",
      "|1106473203766657024|        10|  false|     0.0|  null|Map(17:production...|\n",
      "|1106473203766657024|        10|  false|     0.0|  null|Map(17:production...|\n",
      "|1106473203766657024|        10|  false|     0.0|  null|Map(17:production...|\n",
      "|1106473203766657024|        10|  false|     0.0|  null|Map(17:production...|\n",
      "|1106473203766657024|        10|  false|     0.0|  null|Map(17:production...|\n",
      "|1106473203766657024|        10|  false|     0.0|  null|Map(17:production...|\n",
      "|1106473203766657024|        10|  false|     0.0|  null|Map(17:production...|\n",
      "|1106473203766657024|        10|  false|     0.0|  null|Map(17:production...|\n",
      "|1106473203766657024|        10|  false|     0.0|  null|Map(17:production...|\n",
      "|1106473203766657024|        10|  false|     0.0|  null|Map(17:production...|\n",
      "|1106473203766657024|        10|  false|     0.0|  null|Map(17:production...|\n",
      "|1106473203766657024|         1|  false|     0.0|  null|Map(17:production...|\n",
      "|1106473203766657024|        10|  false|     0.0|  null|Map(17:production...|\n",
      "|1106473203766657024|        10|  false|     0.0|  null|Map(17:production...|\n",
      "+-------------------+----------+-------+--------+------+--------------------+\n",
      "only showing top 20 rows\n",
      "\n"
     ]
    }
   ],
   "source": [
    "train = user_article_basic.join(user_profile_hbase_schema,on=[\"user_id\"],how=\"left\")\n",
    "train.show()"
   ]
  },
  {
   "cell_type": "code",
   "execution_count": 11,
   "metadata": {},
   "outputs": [],
   "source": [
    "# 4.读取文章向量，与其合并\n",
    "ctr.spark.sql(\"use article\")\n",
    "article_vector = ctr.spark.sql(\"select * from article_vector\")"
   ]
  },
  {
   "cell_type": "code",
   "execution_count": 12,
   "metadata": {},
   "outputs": [
    {
     "name": "stdout",
     "output_type": "stream",
     "text": [
      "+----------+-------------------+-------+--------------------+----------+--------------------+\n",
      "|article_id|            user_id|clicked|             weights|channel_id|       articlevector|\n",
      "+----------+-------------------+-------+--------------------+----------+--------------------+\n",
      "|         7|1106473203766657024|  false|Map(17:production...|        17|[0.032613825, 0.0...|\n",
      "|        10|1106473203766657024|  false|Map(17:production...|        17|[0.05536371, 0.05...|\n",
      "|        10|1106473203766657024|  false|Map(17:production...|        17|[0.05536371, 0.05...|\n",
      "|         3|1106473203766657024|  false|Map(17:production...|        17|[-0.014934189, 0....|\n",
      "|        10|1106473203766657024|  false|Map(17:production...|        17|[0.05536371, 0.05...|\n",
      "|        10|1106473203766657024|  false|Map(17:production...|        17|[0.05536371, 0.05...|\n",
      "|        10|1106473203766657024|  false|Map(17:production...|        17|[0.05536371, 0.05...|\n",
      "|        10|1106473203766657024|  false|Map(17:production...|        17|[0.05536371, 0.05...|\n",
      "|        10|1106473203766657024|  false|Map(17:production...|        17|[0.05536371, 0.05...|\n",
      "|        10|1106473203766657024|  false|Map(17:production...|        17|[0.05536371, 0.05...|\n",
      "|        10|1106473203766657024|  false|Map(17:production...|        17|[0.05536371, 0.05...|\n",
      "|        10|1106473203766657024|  false|Map(17:production...|        17|[0.05536371, 0.05...|\n",
      "|        10|1106473203766657024|  false|Map(17:production...|        17|[0.05536371, 0.05...|\n",
      "|        10|1106473203766657024|  false|Map(17:production...|        17|[0.05536371, 0.05...|\n",
      "|        10|1106473203766657024|  false|Map(17:production...|        17|[0.05536371, 0.05...|\n",
      "|        10|1106473203766657024|  false|Map(17:production...|        17|[0.05536371, 0.05...|\n",
      "|        10|1106473203766657024|  false|Map(17:production...|        17|[0.05536371, 0.05...|\n",
      "|         1|1106473203766657024|  false|Map(17:production...|        17|[-0.010320131, -0...|\n",
      "|        10|1106473203766657024|  false|Map(17:production...|        17|[0.05536371, 0.05...|\n",
      "|        10|1106473203766657024|  false|Map(17:production...|        17|[0.05536371, 0.05...|\n",
      "+----------+-------------------+-------+--------------------+----------+--------------------+\n",
      "only showing top 20 rows\n",
      "\n"
     ]
    }
   ],
   "source": [
    "train_s = train.join(article_vector,on=[\"article_id\"],how=\"left\").drop(\"birthday\").drop(\"gender\")\n",
    "train_s.show()"
   ]
  },
  {
   "cell_type": "code",
   "execution_count": 13,
   "metadata": {},
   "outputs": [
    {
     "name": "stdout",
     "output_type": "stream",
     "text": [
      "+----------+----------+--------------------+--------------------+\n",
      "|article_id|channel_id|            keywords|              topics|\n",
      "+----------+----------+--------------------+--------------------+\n",
      "|         7|        17|Map(pre -> 0.2149...|[交易, eth, 合约, con...|\n",
      "|         6|        17|Map(pre -> 0.3106...|[vue, https, &#, ...|\n",
      "|         9|        17|Map(视图 -> 0.58758...|[item, 关键, goLink...|\n",
      "|         5|        17|Map(pre -> 0.1436...|[obj, name, let, ...|\n",
      "|         1|        17|Map(pre -> 0.1871...|[props, child, sp...|\n",
      "|        10|        17|Map(auto -> 0.564...|[WebSocket, 源码, 程...|\n",
      "|         3|        17|Map(对象 -> 0.16465...|[内存, Array, 数据类型,...|\n",
      "|         8|        17|Map(pre -> 0.6574...|[模式, webpack, 插件,...|\n",
      "|         2|        17|Map(name -> 0.237...|[match, 属性, node,...|\n",
      "|         4|        17|Map(jpg -> 0.6861...|[bin, nodejs, 数据库...|\n",
      "+----------+----------+--------------------+--------------------+\n",
      "\n"
     ]
    }
   ],
   "source": [
    "# 5.读取文章画像的关键词权重，并与之合并\n",
    "ctr.spark.sql(\"use article\")\n",
    "article_profile = ctr.spark.sql(\"select * from article_profile\")\n",
    "article_profile.show()"
   ]
  },
  {
   "cell_type": "code",
   "execution_count": 14,
   "metadata": {},
   "outputs": [
    {
     "name": "stdout",
     "output_type": "stream",
     "text": [
      "+----------+--------------------+\n",
      "|article_id|     article_weights|\n",
      "+----------+--------------------+\n",
      "|         7|[0.09213260561227...|\n",
      "|         6|[0.21955698728561...|\n",
      "|         9|[0.07852160930633...|\n",
      "|         5|[0.05401321128010...|\n",
      "|         1|[0.07170990854501...|\n",
      "|        10|[0.30014133453369...|\n",
      "|         3|[0.16465455293655...|\n",
      "|         8|[0.10025119781494...|\n",
      "|         2|[0.06199097633361...|\n",
      "|         4|[0.18988895416259...|\n",
      "+----------+--------------------+\n",
      "\n"
     ]
    }
   ],
   "source": [
    "def article_profile_to_feature(row):\n",
    "\n",
    "    try:\n",
    "        weights = sorted(row.keywords.values())[:10]\n",
    "    except Exception as e:\n",
    "        weights = [0.0] * 10\n",
    "    return row.article_id, weights\n",
    "article_profile = article_profile.rdd.map(article_profile_to_feature).toDF(['article_id', 'article_weights'])\n",
    "\n",
    "article_profile.show()"
   ]
  },
  {
   "cell_type": "code",
   "execution_count": 15,
   "metadata": {},
   "outputs": [
    {
     "name": "stdout",
     "output_type": "stream",
     "text": [
      "+----------+-------------------+-------+--------------------+----------+--------------------+--------------------+\n",
      "|article_id|            user_id|clicked|             weights|channel_id|       articlevector|     article_weights|\n",
      "+----------+-------------------+-------+--------------------+----------+--------------------+--------------------+\n",
      "|         7|1106473203766657024|  false|Map(17:production...|        17|[0.032613825, 0.0...|[0.09213260561227...|\n",
      "|         7|1103195673450250240|  false|Map(17:production...|        17|[0.032613825, 0.0...|[0.09213260561227...|\n",
      "|         7|1105045287866466304|  false|Map(17:production...|        17|[0.032613825, 0.0...|[0.09213260561227...|\n",
      "|         7|1109995264376045568|  false|Map(17:Web -> 0.1...|        17|[0.032613825, 0.0...|[0.09213260561227...|\n",
      "|         7|1105105185656537088|  false|Map(17:production...|        17|[0.032613825, 0.0...|[0.09213260561227...|\n",
      "|         7|1110071654421102592|   true|Map(17:Web -> 0.1...|        17|[0.032613825, 0.0...|[0.09213260561227...|\n",
      "|         7|1109995683777085440|  false|Map(17:Web -> 0.1...|        17|[0.032613825, 0.0...|[0.09213260561227...|\n",
      "|         7|1109993249109442560|  false|Map(17:Web -> 0.1...|        17|[0.032613825, 0.0...|[0.09213260561227...|\n",
      "|         7|1109984273839947776|  false|Map(17:Web -> 0.1...|        17|[0.032613825, 0.0...|[0.09213260561227...|\n",
      "|         7|1106396183141548032|  false|Map(17:production...|        17|[0.032613825, 0.0...|[0.09213260561227...|\n",
      "|         7|1106476833370537984|  false|Map(17:production...|        17|[0.032613825, 0.0...|[0.09213260561227...|\n",
      "|         7|1109979805106831360|  false|Map(17:Web -> 0.1...|        17|[0.032613825, 0.0...|[0.09213260561227...|\n",
      "|         7|1109980466942836736|  false|Map(17:版本 -> 0.14...|        17|[0.032613825, 0.0...|[0.09213260561227...|\n",
      "|         7|1109976363453906944|  false|Map(17:Web -> 0.1...|        17|[0.032613825, 0.0...|[0.09213260561227...|\n",
      "|         7|1108264901190615040|  false|Map(17:Web -> 0.8...|        17|[0.032613825, 0.0...|[0.09213260561227...|\n",
      "|         7|1111189494544990208|  false|Map(17:Web -> 0.1...|        17|[0.032613825, 0.0...|[0.09213260561227...|\n",
      "|         7|1105093883106164736|  false|Map(17:production...|        17|[0.032613825, 0.0...|[0.09213260561227...|\n",
      "|         7|1109994594201763840|  false|Map(17:Web -> 0.1...|        17|[0.032613825, 0.0...|[0.09213260561227...|\n",
      "|         6|1106473203766657024|   true|Map(17:production...|        17|[0.025545081, 0.0...|[0.21955698728561...|\n",
      "|         6|1103195673450250240|  false|Map(17:production...|        17|[0.025545081, 0.0...|[0.21955698728561...|\n",
      "+----------+-------------------+-------+--------------------+----------+--------------------+--------------------+\n",
      "only showing top 20 rows\n",
      "\n"
     ]
    }
   ],
   "source": [
    "train_m = train_s.join(article_profile,on=[\"article_id\"],how=\"left\")\n",
    "train_m.show()"
   ]
  },
  {
   "cell_type": "code",
   "execution_count": 28,
   "metadata": {},
   "outputs": [
    {
     "name": "stdout",
     "output_type": "stream",
     "text": [
      "+----------+-------------------+----------+--------------------+--------------------+--------------------+-------+\n",
      "|article_id|            user_id|channel_id|       articlevector|        user_weights|     article_weights|clicked|\n",
      "+----------+-------------------+----------+--------------------+--------------------+--------------------+-------+\n",
      "|         7|1106473203766657024|        17|[0.03261382505297...|[0.14066186166091...|[0.09213260561227...|      0|\n",
      "|         7|1103195673450250240|        17|[0.03261382505297...|[0.14031406697193...|[0.09213260561227...|      0|\n",
      "|         7|1105045287866466304|        17|[0.03261382505297...|[0.14048698299247...|[0.09213260561227...|      0|\n",
      "|         7|1109995264376045568|        17|[0.03261382505297...|[0.14083874354904...|[0.09213260561227...|      0|\n",
      "|         7|1105105185656537088|        17|[0.03261382505297...|[0.14053051709691...|[0.09213260561227...|      0|\n",
      "|         7|1110071654421102592|        17|[0.03261382505297...|[0.14083874354904...|[0.09213260561227...|      1|\n",
      "|         7|1109995683777085440|        17|[0.03261382505297...|[0.14083874354904...|[0.09213260561227...|      0|\n",
      "|         7|1109993249109442560|        17|[0.03261382505297...|[0.14083874354904...|[0.09213260561227...|      0|\n",
      "|         7|1109984273839947776|        17|[0.03261382505297...|[0.14083874354904...|[0.09213260561227...|      0|\n",
      "|         7|1106396183141548032|        17|[0.03261382505297...|[0.14040028214056...|[0.09213260561227...|      0|\n",
      "|         7|1106476833370537984|        17|[0.03261382505297...|[0.14066186166091...|[0.09213260561227...|      0|\n",
      "|         7|1109979805106831360|        17|[0.03261382505297...|[0.14083874354904...|[0.09213260561227...|      0|\n",
      "|         7|1109980466942836736|        17|[0.03261382505297...|[0.14083874354904...|[0.09213260561227...|      0|\n",
      "|         7|1109976363453906944|        17|[0.03261382505297...|[0.14083874354904...|[0.09213260561227...|      0|\n",
      "|         7|1108264901190615040|        17|[0.03261382505297...|[0.8437077347836901]|[0.09213260561227...|      0|\n",
      "|         7|1111189494544990208|        17|[0.03261382505297...|[0.14097274467121...|[0.09213260561227...|      0|\n",
      "|         7|1105093883106164736|        17|[0.03261382505297...|[0.14053051709691...|[0.09213260561227...|      0|\n",
      "|         7|1109994594201763840|        17|[0.03261382505297...|[0.14088328189414...|[0.09213260561227...|      0|\n",
      "|         6|1106473203766657024|        17|[0.02554508112370...|[0.14066186166091...|[0.21955698728561...|      1|\n",
      "|         6|1103195673450250240|        17|[0.02554508112370...|[0.14031406697193...|[0.21955698728561...|      0|\n",
      "+----------+-------------------+----------+--------------------+--------------------+--------------------+-------+\n",
      "only showing top 20 rows\n",
      "\n"
     ]
    }
   ],
   "source": [
    "# 6.解析出用户特征权重，及类型处理array---vector\n",
    "columns = [\"article_id\",\"user_id\",\"channel_id\",\"articlevector\",\"user_weights\",\"article_weights\",\"clicked\"]\n",
    "\n",
    "def get_user_weights(row):\n",
    "    from pyspark.ml.linalg import Vectors\n",
    "    \n",
    "    try:\n",
    "        user_weights = sorted([row.weights[key] for key in row.weights.keys() if key.split(\":\")[0]==str(row.channel_id)])[:10]\n",
    "    except Exception:\n",
    "        user_weights = [0.0]*10\n",
    "    \n",
    "    return row.article_id,row.user_id,row.channel_id,Vectors.dense(row.articlevector),Vectors.dense(user_weights),Vectors.dense(row.article_weights),int(row.clicked)\n",
    "\n",
    "train_user_weights = train_m.rdd.map(get_user_weights).toDF(columns)\n",
    "train_user_weights = train_user_weights.dropna()\n",
    "train_user_weights.show()"
   ]
  },
  {
   "cell_type": "code",
   "execution_count": 29,
   "metadata": {},
   "outputs": [
    {
     "name": "stdout",
     "output_type": "stream",
     "text": [
      "+----------+-------------------+----------+--------------------+--------------------+--------------------+-------+--------------------+\n",
      "|article_id|            user_id|channel_id|       articlevector|        user_weights|     article_weights|clicked|            features|\n",
      "+----------+-------------------+----------+--------------------+--------------------+--------------------+-------+--------------------+\n",
      "|         7|1106473203766657024|        17|[0.03261382505297...|[0.14066186166091...|[0.09213260561227...|      0|[17.0,0.032613825...|\n",
      "|         7|1103195673450250240|        17|[0.03261382505297...|[0.14031406697193...|[0.09213260561227...|      0|[17.0,0.032613825...|\n",
      "|         7|1105045287866466304|        17|[0.03261382505297...|[0.14048698299247...|[0.09213260561227...|      0|[17.0,0.032613825...|\n",
      "|         7|1109995264376045568|        17|[0.03261382505297...|[0.14083874354904...|[0.09213260561227...|      0|[17.0,0.032613825...|\n",
      "|         7|1105105185656537088|        17|[0.03261382505297...|[0.14053051709691...|[0.09213260561227...|      0|[17.0,0.032613825...|\n",
      "|         7|1110071654421102592|        17|[0.03261382505297...|[0.14083874354904...|[0.09213260561227...|      1|[17.0,0.032613825...|\n",
      "|         7|1109995683777085440|        17|[0.03261382505297...|[0.14083874354904...|[0.09213260561227...|      0|[17.0,0.032613825...|\n",
      "|         7|1109993249109442560|        17|[0.03261382505297...|[0.14083874354904...|[0.09213260561227...|      0|[17.0,0.032613825...|\n",
      "|         7|1109984273839947776|        17|[0.03261382505297...|[0.14083874354904...|[0.09213260561227...|      0|[17.0,0.032613825...|\n",
      "|         7|1106396183141548032|        17|[0.03261382505297...|[0.14040028214056...|[0.09213260561227...|      0|[17.0,0.032613825...|\n",
      "|         7|1106476833370537984|        17|[0.03261382505297...|[0.14066186166091...|[0.09213260561227...|      0|[17.0,0.032613825...|\n",
      "|         7|1109979805106831360|        17|[0.03261382505297...|[0.14083874354904...|[0.09213260561227...|      0|[17.0,0.032613825...|\n",
      "|         7|1109980466942836736|        17|[0.03261382505297...|[0.14083874354904...|[0.09213260561227...|      0|[17.0,0.032613825...|\n",
      "|         7|1109976363453906944|        17|[0.03261382505297...|[0.14083874354904...|[0.09213260561227...|      0|[17.0,0.032613825...|\n",
      "|         7|1108264901190615040|        17|[0.03261382505297...|[0.8437077347836901]|[0.09213260561227...|      0|[17.0,0.032613825...|\n",
      "|         7|1111189494544990208|        17|[0.03261382505297...|[0.14097274467121...|[0.09213260561227...|      0|[17.0,0.032613825...|\n",
      "|         7|1105093883106164736|        17|[0.03261382505297...|[0.14053051709691...|[0.09213260561227...|      0|[17.0,0.032613825...|\n",
      "|         7|1109994594201763840|        17|[0.03261382505297...|[0.14088328189414...|[0.09213260561227...|      0|[17.0,0.032613825...|\n",
      "|         6|1106473203766657024|        17|[0.02554508112370...|[0.14066186166091...|[0.21955698728561...|      1|[17.0,0.025545081...|\n",
      "|         6|1103195673450250240|        17|[0.02554508112370...|[0.14031406697193...|[0.21955698728561...|      0|[17.0,0.025545081...|\n",
      "+----------+-------------------+----------+--------------------+--------------------+--------------------+-------+--------------------+\n",
      "only showing top 20 rows\n",
      "\n"
     ]
    }
   ],
   "source": [
    "# 7.用VectorAssembler()收集样本特征\n",
    "# features[121维，1+100+10+10]\n",
    "train_features = VectorAssembler().setInputCols(columns[2:6]).setOutputCol(\"features\").transform(train_user_weights)\n",
    "train_features.show()"
   ]
  },
  {
   "cell_type": "code",
   "execution_count": 40,
   "metadata": {},
   "outputs": [
    {
     "name": "stdout",
     "output_type": "stream",
     "text": [
      "+----------+-------------------+----------+--------------------+--------------------+--------------------+-------+\n",
      "|article_id|            user_id|channel_id|       articlevector|        user_weights|            features|clicked|\n",
      "+----------+-------------------+----------+--------------------+--------------------+--------------------+-------+\n",
      "|         7|1106473203766657024|        17|[0.03261382505297...|[0.14066186166091...|[17.0,0.032613825...|      0|\n",
      "|         7|1103195673450250240|        17|[0.03261382505297...|[0.14031406697193...|[17.0,0.032613825...|      0|\n",
      "|         7|1105045287866466304|        17|[0.03261382505297...|[0.14048698299247...|[17.0,0.032613825...|      0|\n",
      "|         7|1105105185656537088|        17|[0.03261382505297...|[0.14053051709691...|[17.0,0.032613825...|      0|\n",
      "|         7|1106396183141548032|        17|[0.03261382505297...|[0.14040028214056...|[17.0,0.032613825...|      0|\n",
      "|         7|1106476833370537984|        17|[0.03261382505297...|[0.14066186166091...|[17.0,0.032613825...|      0|\n",
      "|         7|1105093883106164736|        17|[0.03261382505297...|[0.14053051709691...|[17.0,0.032613825...|      0|\n",
      "|         6|1106473203766657024|        17|[0.02554508112370...|[0.14066186166091...|[17.0,0.025545081...|      1|\n",
      "|         6|1103195673450250240|        17|[0.02554508112370...|[0.14031406697193...|[17.0,0.025545081...|      0|\n",
      "|         6|1105045287866466304|        17|[0.02554508112370...|[0.14048698299247...|[17.0,0.025545081...|      0|\n",
      "|         6|1105105185656537088|        17|[0.02554508112370...|[0.14053051709691...|[17.0,0.025545081...|      0|\n",
      "|         6|                 33|        17|[0.02554508112370...|[0.14001606869458...|[17.0,0.025545081...|      0|\n",
      "|         6|                 10|        17|[0.02554508112370...|[0.14027113998843...|[17.0,0.025545081...|      0|\n",
      "|         6|1106396183141548032|        17|[0.02554508112370...|[0.14040028214056...|[17.0,0.025545081...|      1|\n",
      "|         6|1106476833370537984|        17|[0.02554508112370...|[0.14066186166091...|[17.0,0.025545081...|      0|\n",
      "|         6|1105093883106164736|        17|[0.02554508112370...|[0.14053051709691...|[17.0,0.025545081...|      0|\n",
      "|         9|                  1|        17|[0.03621837496757...|[0.14022833259815...|[17.0,0.036218374...|      1|\n",
      "|         9|1106476833370537984|        17|[0.03621837496757...|[0.14066186166091...|[17.0,0.036218374...|      0|\n",
      "|         5|1106473203766657024|        17|[-0.0126656768843...|[0.14066186166091...|[17.0,-0.01266567...|      0|\n",
      "|         5|1103195673450250240|        17|[-0.0126656768843...|[0.14031406697193...|[17.0,-0.01266567...|      0|\n",
      "+----------+-------------------+----------+--------------------+--------------------+--------------------+-------+\n",
      "only showing top 20 rows\n",
      "\n"
     ]
    }
   ],
   "source": [
    "# 将features维度不够121的样本删除\n",
    "def get_feature_equel(row):\n",
    "    num = len(row.features)\n",
    "    if num == 121:\n",
    "        features = row.features\n",
    "        \n",
    "    else:\n",
    "        features = None\n",
    "    \n",
    "    return row.article_id,row.user_id,row.channel_id,row.articlevector,row.user_weights,features,row.clicked\n",
    "\n",
    "train_feature_equel = train_features.rdd.map(get_feature_equel).toDF([\"article_id\",\"user_id\",\"channel_id\",\"articlevector\",\"user_weights\",\"features\",\"clicked\"]).dropna()\n",
    "train_feature_equel.show()"
   ]
  },
  {
   "cell_type": "code",
   "execution_count": 22,
   "metadata": {},
   "outputs": [],
   "source": [
    "# 8.训练LR模型,保存\n",
    "lr = LogisticRegression()"
   ]
  },
  {
   "cell_type": "code",
   "execution_count": 43,
   "metadata": {},
   "outputs": [],
   "source": [
    "model = lr.setLabelCol(\"clicked\").setFeaturesCol(\"features\").fit(train_feature_equel)"
   ]
  },
  {
   "cell_type": "code",
   "execution_count": 44,
   "metadata": {},
   "outputs": [],
   "source": [
    "model.save(\"hdfs://hadoop1:9000/headlines/models/logistic_ctr_model.obj\")"
   ]
  },
  {
   "cell_type": "code",
   "execution_count": 45,
   "metadata": {},
   "outputs": [],
   "source": [
    "# 9.点击率结果预测\n",
    "online_model = LogisticRegressionModel.load(\"hdfs://hadoop1:9000/headlines/models/logistic_ctr_model.obj\")"
   ]
  },
  {
   "cell_type": "code",
   "execution_count": 46,
   "metadata": {},
   "outputs": [
    {
     "name": "stdout",
     "output_type": "stream",
     "text": [
      "+-------+--------------------+----------+\n",
      "|clicked|         probability|prediction|\n",
      "+-------+--------------------+----------+\n",
      "|      0|           [1.0,0.0]|       0.0|\n",
      "|      0|           [1.0,0.0]|       0.0|\n",
      "|      0|           [1.0,0.0]|       0.0|\n",
      "|      0|           [1.0,0.0]|       0.0|\n",
      "|      0|           [1.0,0.0]|       0.0|\n",
      "|      0|           [1.0,0.0]|       0.0|\n",
      "|      0|           [1.0,0.0]|       0.0|\n",
      "|      1|[0.77486481716504...|       0.0|\n",
      "|      0|[0.77520557404725...|       0.0|\n",
      "|      0|[0.77503620286231...|       0.0|\n",
      "|      0|[0.77499354695277...|       0.0|\n",
      "|      0|[0.77490362356457...|       0.0|\n",
      "|      0|[0.77524760698241...|       0.0|\n",
      "|      1|[0.77641811919628...|       0.0|\n",
      "|      0|[0.77486481716504...|       0.0|\n",
      "|      0|[0.77499354695277...|       0.0|\n",
      "|      1|[0.44390814518402...|       1.0|\n",
      "|      0|[0.44330685507415...|       1.0|\n",
      "|      0|           [1.0,0.0]|       0.0|\n",
      "|      0|           [1.0,0.0]|       0.0|\n",
      "+-------+--------------------+----------+\n",
      "only showing top 20 rows\n",
      "\n"
     ]
    }
   ],
   "source": [
    "res_transform = online_model.transform(train_feature_equel)\n",
    "res_transform.select([\"clicked\",\"probability\",\"prediction\"]).show()"
   ]
  },
  {
   "cell_type": "code",
   "execution_count": 57,
   "metadata": {},
   "outputs": [
    {
     "data": {
      "text/plain": [
       "PythonRDD[976] at RDD at PythonRDD.scala:49"
      ]
     },
     "execution_count": 57,
     "metadata": {},
     "output_type": "execute_result"
    }
   ],
   "source": [
    "# 解析出两列，目标值clicked与点击率probability[1]\n",
    "def vector_to_double(row):\n",
    "    return float(row.clicked),float(row.probability[1])\n",
    "\n",
    "score_lable = res_transform.select([\"clicked\",\"probability\"]).rdd.map(vector_to_double)\n",
    "score_lable"
   ]
  },
  {
   "cell_type": "code",
   "execution_count": 48,
   "metadata": {},
   "outputs": [
    {
     "data": {
      "image/png": "[encoded data removed]",
      "text/plain": [
       "<Figure size 360x360 with 1 Axes>"
      ]
     },
     "metadata": {
      "needs_background": "light"
     },
     "output_type": "display_data"
    }
   ],
   "source": [
    "# 10.对预测结果评估\n",
    "# 根据训练时的模型model，画出roc图像\n",
    "import matplotlib.pyplot as plt\n",
    "plt.figure(figsize=(5,5))\n",
    "plt.plot([0, 1], [0, 1], 'r--')\n",
    "plt.plot(model.summary.roc.select('FPR').collect(),\n",
    "         model.summary.roc.select('TPR').collect())\n",
    "plt.xlabel('FPR')\n",
    "plt.ylabel('TPR')\n",
    "plt.show()"
   ]
  },
  {
   "cell_type": "code",
   "execution_count": 49,
   "metadata": {},
   "outputs": [],
   "source": [
    "# 计算AUC值\n",
    "# 方法一：计算roc曲线下的面积\n",
    "from pyspark.mllib.evaluation import BinaryClassificationMetrics\n",
    "metrics = BinaryClassificationMetrics(score_lable)\n",
    "metrics.areaUnderROC\n",
    "0.7364334522585716"
   ]
  },
  {
   "cell_type": "code",
   "execution_count": 71,
   "metadata": {},
   "outputs": [
    {
     "data": {
      "text/plain": [
       "array([[0., 0.],\n",
       "       [0., 0.],\n",
       "       [0., 0.],\n",
       "       ...,\n",
       "       [0., 0.],\n",
       "       [0., 0.],\n",
       "       [0., 0.]])"
      ]
     },
     "execution_count": 71,
     "metadata": {},
     "output_type": "execute_result"
    }
   ],
   "source": [
    "# 方法二：将结果转成ndarray\n",
    "from sklearn.metrics import accuracy_score,roc_auc_score\n",
    "import numpy as np\n",
    "arr = np.array(score_lable.collect())\n",
    "arr"
   ]
  },
  {
   "cell_type": "code",
   "execution_count": 69,
   "metadata": {},
   "outputs": [
    {
     "data": {
      "text/plain": [
       "0.8969194312796208"
      ]
     },
     "execution_count": 69,
     "metadata": {},
     "output_type": "execute_result"
    }
   ],
   "source": [
    "accuracy_score(arr[:,0],arr[:,1].round())"
   ]
  },
  {
   "cell_type": "code",
   "execution_count": 70,
   "metadata": {},
   "outputs": [
    {
     "data": {
      "text/plain": [
       "0.6688017955801104"
      ]
     },
     "execution_count": 70,
     "metadata": {},
     "output_type": "execute_result"
    }
   ],
   "source": [
    "roc_auc_score(arr[:,0],arr[:,1])"
   ]
  },
  {
   "cell_type": "code",
   "execution_count": null,
   "metadata": {},
   "outputs": [],
   "source": []
  }
 ],
 "metadata": {
  "kernelspec": {
   "display_name": "Python 3",
   "language": "python",
   "name": "python3"
  },
  "language_info": {
   "codemirror_mode": {
    "name": "ipython",
    "version": 3
   },
   "file_extension": ".py",
   "mimetype": "text/x-python",
   "name": "python",
   "nbconvert_exporter": "python",
   "pygments_lexer": "ipython3",
   "version": "3.6.8"
  },
  "pycharm": {
   "stem_cell": {
    "cell_type": "raw",
    "source": [],
    "metadata": {
     "collapsed": false
    }
   }
  }
 },
 "nbformat": 4,
 "nbformat_minor": 4
}