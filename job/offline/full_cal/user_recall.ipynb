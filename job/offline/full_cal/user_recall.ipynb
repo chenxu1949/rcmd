{
 "cells": [
  {
   "cell_type": "code",
   "execution_count": 12,
   "metadata": {},
   "outputs": [],
   "source": [
    "import os\n",
    "import sys\n",
    "# 如果当前代码文件运行测试需要加入修改路径，避免出现后导包问题\n",
    "BASE_DIR = os.path.dirname(os.path.dirname(os.getcwd()))\n",
    "sys.path.insert(0, os.path.join(BASE_DIR))\n",
    "\n",
    "PYSPARK_PYTHON = \"/root/miniconda3/envs/test/bin/python\"\n",
    "# 当存在多个版本时，不指定很可能会导致出错\n",
    "os.environ[\"PYSPARK_PYTHON\"] = PYSPARK_PYTHON\n",
    "os.environ[\"PYSPARK_DRIVER_PYTHON\"] = PYSPARK_PYTHON\n",
    "\n",
    "from offline import SparkSessionBase\n",
    "import pyhdfs\n",
    "import time\n",
    "\n",
    "\n",
    "class UpdateRecall(SparkSessionBase):\n",
    "    \"\"\"离线相关处理程序\n",
    "    \"\"\"\n",
    "    SPARK_APP_NAME = \"updateRecall\"\n",
    "    ENABLE_HIVE_SUPPORT = True\n",
    "\n",
    "    SPARK_EXECUTOR_MEMORY = \"4g\"\n",
    "\n",
    "    def __init__(self):\n",
    "\n",
    "        self.spark = self._create_spark_session()\n",
    "\n",
    "ur = UpdateRecall()"
   ]
  },
  {
   "cell_type": "markdown",
   "metadata": {},
   "source": [
    "#### 读取用户对文章的行为表"
   ]
  },
  {
   "cell_type": "code",
   "execution_count": 17,
   "metadata": {},
   "outputs": [],
   "source": [
    "ur.spark.sql(\"use profile\")\n",
    "user_article_basic = ur.spark.sql(\"select user_id,article_id,clicked from user_article_basic\")"
   ]
  },
  {
   "cell_type": "code",
   "execution_count": 18,
   "metadata": {},
   "outputs": [
    {
     "name": "stdout",
     "output_type": "stream",
     "text": [
      "+-------------------+----------+-------+\n",
      "|            user_id|article_id|clicked|\n",
      "+-------------------+----------+-------+\n",
      "|1105045287866466304|     14225|      0|\n",
      "|1106476833370537984|     14208|      0|\n",
      "|                  1|     44386|      1|\n",
      "|                  1|     44696|      0|\n",
      "|                 10|     43907|      0|\n",
      "|1105093883106164736|    140357|      0|\n",
      "|1106473203766657024|     16005|      0|\n",
      "|                 33|     13570|      0|\n",
      "|                  1|     17632|      0|\n",
      "|1106473203766657024|     17665|      0|\n",
      "|                 10|     44368|      0|\n",
      "|1105093883106164736|     15750|      0|\n",
      "|                  2|     44371|      1|\n",
      "|1105105185656537088|     44180|      0|\n",
      "|1106396183141548032|     43885|      0|\n",
      "|                  4|     15196|      0|\n",
      "|                  4|     18701|      0|\n",
      "|1105045287866466304|     14668|      0|\n",
      "|1105045287866466304|     14805|      0|\n",
      "|1106473203766657024|     44664|      0|\n",
      "+-------------------+----------+-------+\n",
      "only showing top 20 rows\n",
      "\n"
     ]
    }
   ],
   "source": [
    "# 将clicked的类型转为int\n",
    "def convert_boolean_int(row):\n",
    "    return row.user_id, row.article_id, int(row.clicked)\n",
    "        \n",
    "user_article_basic = user_article_basic.rdd.map(convert_boolean_int).toDF(['user_id', 'article_id', 'clicked'])\n",
    "\n",
    "user_article_basic.show()"
   ]
  },
  {
   "cell_type": "markdown",
   "metadata": {},
   "source": [
    "#### 用户ID与文章ID处理"
   ]
  },
  {
   "cell_type": "code",
   "execution_count": 20,
   "metadata": {},
   "outputs": [
    {
     "name": "stdout",
     "output_type": "stream",
     "text": [
      "+-------------------+----------+-------+-----------+--------------+\n",
      "|            user_id|article_id|clicked|als_user_id|als_article_id|\n",
      "+-------------------+----------+-------+-----------+--------------+\n",
      "|1105045287866466304|     14225|      0|        2.0|          29.0|\n",
      "|1106476833370537984|     14208|      0|        0.0|           8.0|\n",
      "|                  1|     44386|      1|        9.0|          13.0|\n",
      "|                  1|     44696|      0|        9.0|          58.0|\n",
      "|                 10|     43907|      0|        1.0|           6.0|\n",
      "|1105093883106164736|    140357|      0|        3.0|          23.0|\n",
      "|1106473203766657024|     16005|      0|        5.0|          39.0|\n",
      "|                 33|     13570|      0|       11.0|          31.0|\n",
      "|                  1|     17632|      0|        9.0|          90.0|\n",
      "|1106473203766657024|     17665|      0|        5.0|          36.0|\n",
      "|                 10|     44368|      0|        1.0|           2.0|\n",
      "|1105093883106164736|     15750|      0|        3.0|          47.0|\n",
      "|                  2|     44371|      1|       10.0|         124.0|\n",
      "|1105105185656537088|     44180|      0|        4.0|          51.0|\n",
      "|1106396183141548032|     43885|      0|        7.0|          42.0|\n",
      "|                  4|     15196|      0|        8.0|           7.0|\n",
      "|                  4|     18701|      0|        8.0|         172.0|\n",
      "|1105045287866466304|     14668|      0|        2.0|          19.0|\n",
      "|1105045287866466304|     14805|      0|        2.0|           1.0|\n",
      "|1106473203766657024|     44664|      0|        5.0|          46.0|\n",
      "+-------------------+----------+-------+-----------+--------------+\n",
      "only showing top 20 rows\n",
      "\n"
     ]
    }
   ],
   "source": [
    "# 用户和文章ID超过ALS最大整数值，需要使用StringIndexer进行转换\n",
    "from pyspark.ml.feature import StringIndexer\n",
    "from pyspark.ml import Pipeline\n",
    "\n",
    "user_indexer = StringIndexer(inputCol='user_id',outputCol='als_user_id')\n",
    "article_indexer = StringIndexer(inputCol='article_id',outputCol='als_article_id')\n",
    "pip = Pipeline(stages=[user_indexer,article_indexer])\n",
    "pip_model = pip.fit(user_article_basic)\n",
    "als_user_article = pip_model.transform(user_article_basic)\n",
    "als_user_article.show()"
   ]
  },
  {
   "cell_type": "markdown",
   "metadata": {},
   "source": [
    "#### 模型训练与推荐"
   ]
  },
  {
   "cell_type": "code",
   "execution_count": 21,
   "metadata": {},
   "outputs": [],
   "source": [
    "from pyspark.ml.recommendation import ALS"
   ]
  },
  {
   "cell_type": "code",
   "execution_count": 23,
   "metadata": {},
   "outputs": [],
   "source": [
    "als = ALS(userCol='als_user_id',itemCol='als_article_id',ratingCol='clicked')\n",
    "als_model = als.fit(als_user_article)"
   ]
  },
  {
   "cell_type": "code",
   "execution_count": 76,
   "metadata": {},
   "outputs": [
    {
     "name": "stdout",
     "output_type": "stream",
     "text": [
      "+-----------+--------------------+\n",
      "|als_user_id|     recommendations|\n",
      "+-----------+--------------------+\n",
      "|         12|[[0, 0.0], [10, 0...|\n",
      "|          1|[[112, 0.15105331...|\n",
      "|         13|[[0, 0.0], [10, 0...|\n",
      "|          6|[[71, 8.8845376E-...|\n",
      "|          3|[[64, 0.24442917]...|\n",
      "|          5|[[189, 7.170044E-...|\n",
      "|          9|[[112, 0.5766499]...|\n",
      "|          4|[[134, 0.46485025...|\n",
      "|          8|[[189, 0.74185854...|\n",
      "|          7|[[189, 0.28287688...|\n",
      "|         10|[[189, 1.0544213]...|\n",
      "|         11|[[64, 0.30284104]...|\n",
      "|          2|[[189, 3.600872E-...|\n",
      "|          0|[[134, 0.6459866]...|\n",
      "+-----------+--------------------+\n",
      "\n"
     ]
    }
   ],
   "source": [
    "recall_res = als_model.recommendForAllUsers(100)\n",
    "recall_res.show()"
   ]
  },
  {
   "cell_type": "markdown",
   "metadata": {},
   "source": [
    "#### 建立真实用户id与索引的映射，真实文章id与索引的映射"
   ]
  },
  {
   "cell_type": "code",
   "execution_count": 72,
   "metadata": {},
   "outputs": [
    {
     "name": "stdout",
     "output_type": "stream",
     "text": [
      "+-------------------+-----------+\n",
      "|            user_id|als_user_id|\n",
      "+-------------------+-----------+\n",
      "|1106473203766657024|        5.0|\n",
      "|1103195673450250240|        6.0|\n",
      "|1105045287866466304|        2.0|\n",
      "|1105105185656537088|        4.0|\n",
      "|                 33|       11.0|\n",
      "+-------------------+-----------+\n",
      "only showing top 5 rows\n",
      "\n"
     ]
    }
   ],
   "source": [
    "user_real_index = als_user_article.groupBy(['user_id']).max('als_user_id').withColumnRenamed('max(als_user_id)','als_user_id')\n",
    "user_real_index.show(5)"
   ]
  },
  {
   "cell_type": "code",
   "execution_count": 73,
   "metadata": {},
   "outputs": [
    {
     "name": "stdout",
     "output_type": "stream",
     "text": [
      "+----------+--------------+\n",
      "|article_id|als_article_id|\n",
      "+----------+--------------+\n",
      "|     13401|         217.0|\n",
      "|     14805|           1.0|\n",
      "|     44013|         190.0|\n",
      "|     16158|          53.0|\n",
      "|     17454|         164.0|\n",
      "+----------+--------------+\n",
      "only showing top 5 rows\n",
      "\n"
     ]
    }
   ],
   "source": [
    "article_real_index = als_user_article.groupBy(['article_id']).max('als_article_id').withColumnRenamed('max(als_article_id)','als_article_id')\n",
    "article_real_index.show(5)"
   ]
  },
  {
   "cell_type": "code",
   "execution_count": 77,
   "metadata": {},
   "outputs": [
    {
     "name": "stdout",
     "output_type": "stream",
     "text": [
      "+-----------+--------------------+-------------------+\n",
      "|als_user_id|     recommendations|            user_id|\n",
      "+-----------+--------------------+-------------------+\n",
      "|          8|[[189, 0.74185854...|                  4|\n",
      "|          0|[[134, 0.6459866]...|1106476833370537984|\n",
      "|          7|[[189, 0.28287688...|1106396183141548032|\n",
      "|          1|[[112, 0.15105331...|                 10|\n",
      "|          4|[[134, 0.46485025...|1105105185656537088|\n",
      "+-----------+--------------------+-------------------+\n",
      "only showing top 5 rows\n",
      "\n"
     ]
    }
   ],
   "source": [
    "# 用户id\n",
    "recall_res = recall_res.join(user_real_index, on=['als_user_id'], how='left').select(['als_user_id', 'recommendations', 'user_id'])\n",
    "recall_res.show(5)"
   ]
  },
  {
   "cell_type": "code",
   "execution_count": 78,
   "metadata": {},
   "outputs": [
    {
     "name": "stdout",
     "output_type": "stream",
     "text": [
      "+-------+-----------------+\n",
      "|user_id|   als_article_id|\n",
      "+-------+-----------------+\n",
      "|      4|[189, 0.74185854]|\n",
      "|      4| [65, 0.62069404]|\n",
      "|      4| [76, 0.62069404]|\n",
      "|      4| [56, 0.48931167]|\n",
      "|      4| [50, 0.42007074]|\n",
      "+-------+-----------------+\n",
      "only showing top 5 rows\n",
      "\n"
     ]
    }
   ],
   "source": [
    "# 文章id\n",
    "import pyspark.sql.functions as F\n",
    "recall_res = recall_res.withColumn('als_article_id',F.explode('recommendations')).drop('recommendations').select([\"user_id\",\"als_article_id\"])\n",
    "recall_res.show(5)"
   ]
  },
  {
   "cell_type": "code",
   "execution_count": 79,
   "metadata": {},
   "outputs": [
    {
     "name": "stdout",
     "output_type": "stream",
     "text": [
      "+-------+--------------+\n",
      "|user_id|als_article_id|\n",
      "+-------+--------------+\n",
      "|      4|           189|\n",
      "|      4|            65|\n",
      "|      4|            76|\n",
      "|      4|            56|\n",
      "|      4|            50|\n",
      "+-------+--------------+\n",
      "only showing top 5 rows\n",
      "\n"
     ]
    }
   ],
   "source": [
    "def get_article_index(row):\n",
    "    return row.user_id,row.als_article_id[0]\n",
    "\n",
    "recall_res = recall_res.rdd.map(get_article_index).toDF([\"user_id\",\"als_article_id\"])\n",
    "recall_res.show(5)"
   ]
  },
  {
   "cell_type": "code",
   "execution_count": 80,
   "metadata": {},
   "outputs": [
    {
     "name": "stdout",
     "output_type": "stream",
     "text": [
      "+-------------------+----------+\n",
      "|            user_id|article_id|\n",
      "+-------------------+----------+\n",
      "|                  4|     44412|\n",
      "|1106476833370537984|     44412|\n",
      "|1106396183141548032|     44412|\n",
      "|                 10|     44412|\n",
      "|1105105185656537088|     44412|\n",
      "|                  2|     44412|\n",
      "|                  1|     44412|\n",
      "|                  4|     44761|\n",
      "|1106476833370537984|     44761|\n",
      "|1106396183141548032|     44761|\n",
      "|                 10|     44761|\n",
      "|1105105185656537088|     44761|\n",
      "|                  2|     44761|\n",
      "|                 23|     44761|\n",
      "|                  1|     44761|\n",
      "|                 38|     44761|\n",
      "|                 33|     13090|\n",
      "|1105093883106164736|     13090|\n",
      "|1105045287866466304|     13090|\n",
      "|1103195673450250240|     13090|\n",
      "+-------------------+----------+\n",
      "only showing top 20 rows\n",
      "\n"
     ]
    }
   ],
   "source": [
    "recall_res = recall_res.join(article_real_index,on=['als_article_id'],how='left').select('user_id','article_id')\n",
    "recall_res.show(20)"
   ]
  },
  {
   "cell_type": "code",
   "execution_count": 81,
   "metadata": {},
   "outputs": [
    {
     "name": "stdout",
     "output_type": "stream",
     "text": [
      "+-------------------+----------+\n",
      "|            user_id|article_id|\n",
      "+-------------------+----------+\n",
      "|                  4|        10|\n",
      "|1106476833370537984|        10|\n",
      "|1106396183141548032|        10|\n",
      "|                 10|        10|\n",
      "|1105105185656537088|        10|\n",
      "|                  2|        10|\n",
      "|                  1|        10|\n",
      "|                  4|        10|\n",
      "|1106476833370537984|        10|\n",
      "|1106396183141548032|        10|\n",
      "|                 10|        10|\n",
      "|1105105185656537088|        10|\n",
      "|                  2|        10|\n",
      "|                 23|        10|\n",
      "|                  1|        10|\n",
      "|                 38|        10|\n",
      "|                 33|        10|\n",
      "|1105093883106164736|        10|\n",
      "|1105045287866466304|        10|\n",
      "|1103195673450250240|        10|\n",
      "+-------------------+----------+\n",
      "only showing top 20 rows\n",
      "\n"
     ]
    }
   ],
   "source": [
    "def change_article_id(row):\n",
    "    if row.article_id == 14225:\n",
    "        article_id = 1\n",
    "    elif row.article_id == 14208:\n",
    "        article_id = 2\n",
    "    elif row.article_id == 44386:\n",
    "        article_id = 3\n",
    "    elif row.article_id == 44696:\n",
    "        article_id = 4\n",
    "    elif row.article_id == 43907:\n",
    "        article_id = 5\n",
    "    elif row.article_id == 140357:\n",
    "        article_id = 6\n",
    "    elif row.article_id == 16005:\n",
    "        article_id = 7 \n",
    "    elif row.article_id == 13570:\n",
    "        article_id = 8\n",
    "    elif row.article_id == 17632:\n",
    "        article_id = 9\n",
    "    else:\n",
    "        article_id = 10\n",
    "    return row.user_id,article_id\n",
    "\n",
    "recall_change = recall_res.rdd.map(change_article_id).toDF([\"user_id\",\"article_id\"])\n",
    "recall_change.show()"
   ]
  },
  {
   "cell_type": "markdown",
   "metadata": {},
   "source": [
    "#### 获取每个文章的频道，按频道分组"
   ]
  },
  {
   "cell_type": "code",
   "execution_count": 38,
   "metadata": {},
   "outputs": [
    {
     "name": "stdout",
     "output_type": "stream",
     "text": [
      "+----------+----------+\n",
      "|article_id|channel_id|\n",
      "+----------+----------+\n",
      "|         1|        17|\n",
      "|         2|        17|\n",
      "|         3|        17|\n",
      "|         4|        17|\n",
      "|         5|        17|\n",
      "|         6|        17|\n",
      "|         7|        17|\n",
      "|         8|        17|\n",
      "|         9|        17|\n",
      "|        10|        17|\n",
      "+----------+----------+\n",
      "\n"
     ]
    }
   ],
   "source": [
    "ur.spark.sql(\"use article\")\n",
    "article_data = ur.spark.sql(\"select article_id,channel_id from article_data limit 10\")\n",
    "article_data.show()"
   ]
  },
  {
   "cell_type": "code",
   "execution_count": 90,
   "metadata": {},
   "outputs": [
    {
     "name": "stdout",
     "output_type": "stream",
     "text": [
      "+----------+-------------------+----------+\n",
      "|article_id|            user_id|channel_id|\n",
      "+----------+-------------------+----------+\n",
      "|        10|                  4|        17|\n",
      "|        10|1106476833370537984|        17|\n",
      "|        10|1106396183141548032|        17|\n",
      "|        10|                 10|        17|\n",
      "|        10|1105105185656537088|        17|\n",
      "|        10|                  2|        17|\n",
      "|        10|                  1|        17|\n",
      "|        10|                  4|        17|\n",
      "|        10|1106476833370537984|        17|\n",
      "|        10|1106396183141548032|        17|\n",
      "|        10|                 10|        17|\n",
      "|        10|1105105185656537088|        17|\n",
      "|        10|                  2|        17|\n",
      "|        10|                 23|        17|\n",
      "|        10|                  1|        17|\n",
      "|        10|                 38|        17|\n",
      "|        10|                 33|        17|\n",
      "|        10|1105093883106164736|        17|\n",
      "|        10|1105045287866466304|        17|\n",
      "|        10|1103195673450250240|        17|\n",
      "+----------+-------------------+----------+\n",
      "only showing top 20 rows\n",
      "\n"
     ]
    }
   ],
   "source": [
    "recall_channel = recall_change.join(article_data,on=['article_id'],how='left')\n",
    "recall_channel.show()"
   ]
  },
  {
   "cell_type": "code",
   "execution_count": 92,
   "metadata": {},
   "outputs": [
    {
     "name": "stdout",
     "output_type": "stream",
     "text": [
      "+-------------------+----------+-------------------+\n",
      "|            user_id|channel_id|       article_list|\n",
      "+-------------------+----------+-------------------+\n",
      "|                  1|        17|   [9, 2, 3, 10, 8]|\n",
      "|1103195673450250240|        17|   [9, 1, 2, 10, 8]|\n",
      "|                  4|        17|[9, 1, 6, 3, 10, 8]|\n",
      "|                  2|        17|      [1, 3, 10, 8]|\n",
      "|1106476833370537984|        17|   [1, 6, 3, 10, 8]|\n",
      "|1106396183141548032|        17|   [1, 6, 3, 10, 8]|\n",
      "|                 10|        17|   [1, 2, 3, 10, 8]|\n",
      "|1105093883106164736|        17|   [9, 2, 6, 3, 10]|\n",
      "|                 33|        17|      [9, 2, 10, 8]|\n",
      "|                 23|        17|   [9, 6, 3, 10, 8]|\n",
      "|1105105185656537088|        17|   [1, 6, 3, 10, 8]|\n",
      "|1105045287866466304|        17|[9, 1, 2, 6, 10, 8]|\n",
      "|1106473203766657024|        17|[9, 1, 2, 6, 10, 8]|\n",
      "|                 38|        17|   [9, 6, 3, 10, 8]|\n",
      "+-------------------+----------+-------------------+\n",
      "\n"
     ]
    }
   ],
   "source": [
    "als_recall = recall_channel.groupBy([\"user_id\",\"channel_id\"]).agg(F.collect_set(\"article_id\")).withColumnRenamed(\"collect_set(article_id)\",\"article_list\")\n",
    "als_recall.show()"
   ]
  },
  {
   "cell_type": "markdown",
   "metadata": {},
   "source": [
    "#### als召回结果存储"
   ]
  },
  {
   "cell_type": "code",
   "execution_count": 94,
   "metadata": {},
   "outputs": [],
   "source": [
    "def save_offline_recall_hbase(partition):\n",
    "    import happybase\n",
    "    pool = happybase.ConnectionPool(size=10,host='hadoop1')\n",
    "    \n",
    "    for row in partition:\n",
    "        with pool.connection() as conn:\n",
    "            # 获取历史看过该频道的文章\n",
    "            history_table = conn.table('history_recall1')\n",
    "            data = history_table.cells('reco:his:{}'.format(row.user_id).encode(),\n",
    "                                      'channel:{}'.format(row.channel_id).encode())\n",
    "            history = []\n",
    "            if len(data) > 1:\n",
    "                for i in data:\n",
    "                    history.extend(i)\n",
    "                    \n",
    "            # 过滤掉历史召回数据\n",
    "            reco_res = list(set(row.article_list) - set(history))\n",
    "            \n",
    "            if reco_res:\n",
    "\n",
    "                table = conn.table('cb_recall1')\n",
    "                \n",
    "                # 将过滤后的数据存放在推荐频道\n",
    "                table.put('recall:user:{}'.format(row.user_id).encode(),\n",
    "                        {'als:{}'.format(row.channel_id).encode():str(reco_res).encode()})\n",
    "                \n",
    "                # 同时将结果放入历史召回表\n",
    "                history_table.put('reco:his:{}'.format(row.user_id).encode(),\n",
    "                                  {'channel:{}'.format(row.channel_id):str(reco_res).encode()})\n",
    "            conn.close()\n",
    "            \n",
    "als_recall.rdd.foreachPartition(save_offline_recall_hbase)"
   ]
  },
  {
   "cell_type": "markdown",
   "metadata": {},
   "source": [
    "### 内容召回"
   ]
  },
  {
   "cell_type": "code",
   "execution_count": 100,
   "metadata": {},
   "outputs": [
    {
     "name": "stdout",
     "output_type": "stream",
     "text": [
      "+-------------------+-------------------+----------+----------+------+-------+---------+--------+---------+\n",
      "|            user_id|        action_time|article_id|channel_id|shared|clicked|collected|exposure|read_time|\n",
      "+-------------------+-------------------+----------+----------+------+-------+---------+--------+---------+\n",
      "|                  1|2019-03-07 16:57:34|     44386|        18| false|   true|    false|    true|    17850|\n",
      "|                  2|2019-03-05 10:19:54|     44371|        18| false|   true|    false|    true|      938|\n",
      "|                  2|2019-03-07 10:06:20|     18103|        18| false|   true|    false|    true|      648|\n",
      "|                  2|2019-03-15 14:51:12|     43894|        18| false|   true|    false|    true|      928|\n",
      "|                  2|2019-03-07 10:05:29|     18836|        18| false|   true|    false|    true|      835|\n",
      "|                  2|2019-03-07 10:06:57|     14961|        18| false|   true|    false|    true|     5248|\n",
      "|                  2|2019-03-15 11:42:42|     13890|        18| false|   true|    false|    true|      426|\n",
      "|                 33|2019-03-11 18:03:59|     17304|        18| false|   true|    false|    true|         |\n",
      "|1105093883106164736|2019-03-11 21:11:51|     14208|        18| false|   true|    false|    true|     1213|\n",
      "|                  2|2019-03-11 10:02:36|     44761|        18| false|   true|    false|    true|     2125|\n",
      "|                  4|2019-03-14 11:32:47|     18609|        18| false|   true|    false|    true|   390481|\n",
      "|                  2|2019-03-11 10:04:12|     15309|        18| false|   true|    false|    true|    13344|\n",
      "|                  2|2019-03-11 10:05:31|     18127|        18| false|   true|    false|    true|     1235|\n",
      "|                  4|2019-03-14 13:52:55|     13249|        18| false|   true|    false|    true|         |\n",
      "|1106476833370537984|2019-03-15 16:49:23|     16062|        18| false|   true|    false|    true|     2247|\n",
      "|                  2|2019-03-05 10:20:50|     44368|        18| false|   true|    false|    true|      832|\n",
      "|                  2|2019-03-07 16:01:18|     15429|        18| false|   true|    false|    true|     5985|\n",
      "|                  4|2019-03-11 18:05:04|     18353|        18| false|   true|    false|    true|      958|\n",
      "|                  2|2019-03-11 10:03:36|     44739|        18| false|   true|    false|    true|      869|\n",
      "|                  2|2019-03-05 10:20:40|     16421|        18| false|   true|    false|    true|     5420|\n",
      "+-------------------+-------------------+----------+----------+------+-------+---------+--------+---------+\n",
      "only showing top 20 rows\n",
      "\n"
     ]
    }
   ],
   "source": [
    "# 获取与用户点击的文章的相似的文章\n",
    "ur.spark.sql(\"use profile\")\n",
    "user_article_basic = ur.spark.sql(\"select * from user_article_basic\")\n",
    "user_article_basic = user_article_basic.filter(\"clicked=True\")\n",
    "user_article_basic.show()"
   ]
  },
  {
   "cell_type": "code",
   "execution_count": 103,
   "metadata": {},
   "outputs": [
    {
     "name": "stdout",
     "output_type": "stream",
     "text": [
      "+-------------------+----------+----------+-------+\n",
      "|            user_id|channel_id|article_id|clicked|\n",
      "+-------------------+----------+----------+-------+\n",
      "|                  1|        18|         1|   true|\n",
      "|                  2|        18|         2|   true|\n",
      "|                  2|        18|         3|   true|\n",
      "|                  2|        18|         4|   true|\n",
      "|                  2|        18|         5|   true|\n",
      "|                  2|        18|         6|   true|\n",
      "|                  2|        18|        10|   true|\n",
      "|                 33|        18|        10|   true|\n",
      "|1105093883106164736|        18|        10|   true|\n",
      "|                  2|        18|        10|   true|\n",
      "|                  4|        18|         7|   true|\n",
      "|                  2|        18|        10|   true|\n",
      "|                  2|        18|        10|   true|\n",
      "|                  4|        18|        10|   true|\n",
      "|1106476833370537984|        18|         9|   true|\n",
      "|                  2|        18|        10|   true|\n",
      "|                  2|        18|        10|   true|\n",
      "|                  4|        18|         8|   true|\n",
      "|                  2|        18|        10|   true|\n",
      "|                  2|        18|        10|   true|\n",
      "+-------------------+----------+----------+-------+\n",
      "only showing top 20 rows\n",
      "\n"
     ]
    }
   ],
   "source": [
    "def change_user_article(row):\n",
    "    if row.article_id == 44386:\n",
    "        article_id = 1\n",
    "    elif row.article_id == 44371:\n",
    "        article_id = 2\n",
    "    elif row.article_id == 18103:\n",
    "        article_id = 3\n",
    "    elif row.article_id == 43894:\n",
    "        article_id = 4\n",
    "    elif row.article_id == 18836:\n",
    "        article_id = 5\n",
    "    elif row.article_id == 14961:\n",
    "        article_id = 6\n",
    "    elif row.article_id == 18609:\n",
    "        article_id = 7 \n",
    "    elif row.article_id == 18353:\n",
    "        article_id = 8\n",
    "    elif row.article_id == 16062:\n",
    "        article_id = 9\n",
    "    else:\n",
    "        article_id = 10\n",
    "    return row.user_id,row.channel_id,article_id,row.clicked\n",
    "\n",
    "user_article_index = user_article_basic.rdd.map(change_user_article).toDF([\"user_id\",\"channel_id\",\"article_id\",\"clicked\"])\n",
    "user_article_index.show()"
   ]
  },
  {
   "cell_type": "code",
   "execution_count": 106,
   "metadata": {},
   "outputs": [],
   "source": [
    "def save_content_filter_history_recall(partition):\n",
    "    import happybase\n",
    "    pool = happybase.ConnectionPool(size=10,host=\"hadoop1\")\n",
    "    \n",
    "    # 获取相似文章\n",
    "    with pool.connection() as conn:\n",
    "        similar_table = conn.table(\"article_similar\")\n",
    "        \n",
    "        for row in partition:\n",
    "            similar_article = similar_table.row(str(row.article_id).encode(),\n",
    "                                               columns=[b'similar'])\n",
    "            #  相似文章排序，只拿出前几篇\n",
    "            _str = sorted(similar_article.items(),key=lambda item:item[1],reverse=True)\n",
    "            if _str:\n",
    "                reco_article = [int(i[0].split(b':')[1]) for i in _str][:10]\n",
    "                \n",
    "                # 获取历史文章\n",
    "                history_table = conn.table(\"history_recall1\")\n",
    "                data = history_table.cells('reco:his:{}'.format(row.user_id).encode(),\n",
    "                                          'channel:{}'.format(row.channel_id).encode())\n",
    "                \n",
    "                history = []\n",
    "                if len(data) > 1:\n",
    "                    for i in data:\n",
    "                        history.extend(i)\n",
    "                        \n",
    "                # 过滤历史文章\n",
    "                reco_res = list(set(reco_article) - set(history))\n",
    "                \n",
    "                # 将结果放入内容召回表及历史召回表\n",
    "                content_table = conn.table(\"cb_recall1\")\n",
    "                content_table.put(\"recall_user:{}\".format(row.user_id).encode(),\n",
    "                                 {'content:{}'.format(row.channel_id).encode():str(reco_res)})\n",
    "                \n",
    "                # 放入历史召回表\n",
    "                history_table.put(\"reco:his:{}\".format(row.user_id).encode(),\n",
    "                                 {'channel:{}'.format(row.channel_id).encode():str(reco_res)})\n",
    "        conn.close()\n",
    "        \n",
    "user_article_index.foreachPartition(save_content_filter_history_recall)       "
   ]
  },
  {
   "cell_type": "code",
   "execution_count": null,
   "metadata": {},
   "outputs": [],
   "source": []
  }
 ],
 "metadata": {
  "kernelspec": {
   "display_name": "Python 3",
   "language": "python",
   "name": "python3"
  },
  "language_info": {
   "codemirror_mode": {
    "name": "ipython",
    "version": 3
   },
   "file_extension": ".py",
   "mimetype": "text/x-python",
   "name": "python",
   "nbconvert_exporter": "python",
   "pygments_lexer": "ipython3",
   "version": "3.7.7"
  }
 },
 "nbformat": 4,
 "nbformat_minor": 4
}
