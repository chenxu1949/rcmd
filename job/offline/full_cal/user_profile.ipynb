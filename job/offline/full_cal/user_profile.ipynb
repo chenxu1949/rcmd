{
 "cells": [
  {
   "cell_type": "code",
   "execution_count": 1,
   "metadata": {},
   "outputs": [],
   "source": [
    "import os\n",
    "import sys\n",
    "# 如果当前代码文件运行测试需要加入修改路径，避免出现后导包问题\n",
    "BASE_DIR = os.path.dirname(os.path.dirname(os.getcwd()))\n",
    "sys.path.insert(0, os.path.join(BASE_DIR))\n",
    "\n",
    "PYSPARK_PYTHON = \"/root/miniconda3/envs/test/bin/python\"\n",
    "# 当存在多个版本时，不指定很可能会导致出错\n",
    "os.environ[\"PYSPARK_PYTHON\"] = PYSPARK_PYTHON\n",
    "os.environ[\"PYSPARK_DRIVER_PYTHON\"] = PYSPARK_PYTHON\n",
    "\n",
    "from offline import SparkSessionBase\n",
    "import pyhdfs\n",
    "import time\n",
    "\n",
    "\n",
    "class UpdateUserProfile(SparkSessionBase):\n",
    "    \"\"\"离线相关处理程序\n",
    "    \"\"\"\n",
    "    SPARK_APP_NAME = \"updateUser\"\n",
    "    ENABLE_HIVE_SUPPORT = True\n",
    "\n",
    "    SPARK_EXECUTOR_MEMORY = \"4g\"\n",
    "\n",
    "    def __init__(self):\n",
    "\n",
    "        self.spark = self._create_spark_session()\n",
    "\n",
    "uup = UpdateUserProfile()"
   ]
  },
  {
   "cell_type": "markdown",
   "metadata": {},
   "source": [
    "#### 读取部分用户行为日志数据"
   ]
  },
  {
   "cell_type": "code",
   "execution_count": 4,
   "metadata": {},
   "outputs": [
    {
     "data": {
      "text/plain": [
       "DataFrame[]"
      ]
     },
     "execution_count": 4,
     "metadata": {},
     "output_type": "execute_result"
    }
   ],
   "source": [
    "uup.spark.sql(\"use profile\")"
   ]
  },
  {
   "cell_type": "code",
   "execution_count": 5,
   "metadata": {},
   "outputs": [],
   "source": [
    "user_action = uup.spark.sql(\"select actionTime,readTime,channelId,param.action,param.userId,param.articleId,param.algorithmCombine from user_action where dt<='2019-03-15'\")"
   ]
  },
  {
   "cell_type": "code",
   "execution_count": 6,
   "metadata": {},
   "outputs": [
    {
     "name": "stdout",
     "output_type": "stream",
     "text": [
      "+-------------------+--------+---------+--------+------+--------------------+----------------+\n",
      "|         actionTime|readTime|channelId|  action|userId|           articleId|algorithmCombine|\n",
      "+-------------------+--------+---------+--------+------+--------------------+----------------+\n",
      "|2019-03-07 10:05:06|        |        0|exposure|     2|             [15196]|              C2|\n",
      "|2019-03-07 10:05:08|        |       18|   click|     2|               15196|              C2|\n",
      "|2019-03-07 10:05:06|        |        0|exposure|     2|             [15196]|              C2|\n",
      "|2019-03-07 10:05:23|   14002|       18|    read|     2|               15196|              C2|\n",
      "|2019-03-07 10:05:08|        |       18|   click|     2|               15196|              C2|\n",
      "|2019-03-07 10:05:27|        |       18|   click|     2|               18836|              C2|\n",
      "|2019-03-07 10:05:23|   14002|       18|    read|     2|               15196|              C2|\n",
      "|2019-03-07 10:05:29|     835|       18|    read|     2|               18836|              C2|\n",
      "|2019-03-07 10:05:29|        |       18|   click|     2|               18609|              C2|\n",
      "|2019-03-07 10:05:33|    1306|       18|    read|     2|               18609|              C2|\n",
      "|2019-03-07 10:05:27|        |       18|   click|     2|               18836|              C2|\n",
      "|2019-03-07 10:05:40|        |       18|   click|     2|               44754|              C2|\n",
      "|2019-03-07 10:05:29|     835|       18|    read|     2|               18836|              C2|\n",
      "|2019-03-07 10:05:29|        |       18|   click|     2|               18609|              C2|\n",
      "|2019-03-07 10:05:33|    1306|       18|    read|     2|               18609|              C2|\n",
      "|2019-03-07 10:05:42|    1040|       18|    read|     2|               44754|              C2|\n",
      "|2019-03-07 10:05:43|        |       18|   click|     2|               19052|              C2|\n",
      "|2019-03-07 10:05:45|     854|       18|    read|     2|               19052|              C2|\n",
      "|2019-03-07 10:05:40|        |       18|   click|     2|               44754|              C2|\n",
      "|2019-03-07 10:05:51|        |        0|exposure|     2|[18353, 44386, 44...|              C2|\n",
      "+-------------------+--------+---------+--------+------+--------------------+----------------+\n",
      "only showing top 20 rows\n",
      "\n"
     ]
    }
   ],
   "source": [
    "user_action.show()"
   ]
  },
  {
   "cell_type": "markdown",
   "metadata": {},
   "source": [
    "#### 用户日志处理 "
   ]
  },
  {
   "cell_type": "code",
   "execution_count": 7,
   "metadata": {},
   "outputs": [],
   "source": [
    "def _compute(row):\n",
    "    _list = []\n",
    "    if row.action == 'exposure':\n",
    "        for article_id in eval(row.articleId):\n",
    "            _list.append([row.userId,row.actionTime,article_id,row.channelId,False,False,False,True,row.readTime])\n",
    "        return _list\n",
    "    else:\n",
    "        class Temp(object):\n",
    "            shared = False\n",
    "            clicked = False\n",
    "            collected = False\n",
    "            read_time = \"\"\n",
    "            \n",
    "        _tp = Temp()\n",
    "        if row.action == 'click':\n",
    "            _tp.clicked = True\n",
    "        elif row.action == 'share':\n",
    "            _tp.share = True\n",
    "        elif row.action == 'collect':\n",
    "            _tp.collect = True\n",
    "        elif row.action == 'read':\n",
    "            _tp.read = True\n",
    "        else:\n",
    "            pass\n",
    "        \n",
    "        _list.append([row.userId,row.actionTime,int(row.articleId),row.channelId,_tp.shared,_tp.clicked,_tp.collected,True,row.readTime])\n",
    "        return _list\n",
    "            "
   ]
  },
  {
   "cell_type": "code",
   "execution_count": 8,
   "metadata": {},
   "outputs": [
    {
     "name": "stdout",
     "output_type": "stream",
     "text": [
      "+-------+-------------------+----------+----------+------+-------+---------+--------+---------+\n",
      "|user_id|        action_time|article_id|channel_id|shared|clicked|collected|exposure|read_time|\n",
      "+-------+-------------------+----------+----------+------+-------+---------+--------+---------+\n",
      "|      1|2019-03-15 10:46:02|     18743|         0| false|  false|    false|    true|         |\n",
      "|      1|2019-03-15 10:46:02|     18743|         0| false|  false|    false|    true|         |\n",
      "|      1|2019-03-15 10:46:02|     18743|         0| false|  false|    false|    true|         |\n",
      "|      1|2019-03-15 10:46:02|     18743|         0| false|  false|    false|    true|         |\n",
      "|      1|2019-03-15 10:46:02|     18743|         0| false|  false|    false|    true|         |\n",
      "|      1|2019-03-15 10:46:02|     18743|         0| false|  false|    false|    true|         |\n",
      "|      1|2019-03-15 10:46:02|     18743|         0| false|  false|    false|    true|         |\n",
      "|      2|2019-03-15 10:59:04|     13890|         0| false|  false|    false|    true|         |\n",
      "|      2|2019-03-15 10:59:04|     18743|         0| false|  false|    false|    true|         |\n",
      "|      2|2019-03-15 10:59:04|     13890|         0| false|  false|    false|    true|         |\n",
      "|      2|2019-03-15 10:59:04|     18743|         0| false|  false|    false|    true|         |\n",
      "|      2|2019-03-15 10:59:04|     13890|         0| false|  false|    false|    true|         |\n",
      "|      2|2019-03-15 10:59:04|     18743|         0| false|  false|    false|    true|         |\n",
      "|      2|2019-03-15 10:59:04|     13890|         0| false|  false|    false|    true|         |\n",
      "|      2|2019-03-15 10:59:04|     18743|         0| false|  false|    false|    true|         |\n",
      "|      2|2019-03-15 10:59:04|     13890|         0| false|  false|    false|    true|         |\n",
      "|      2|2019-03-15 10:59:04|     18743|         0| false|  false|    false|    true|         |\n",
      "|      2|2019-03-15 10:59:04|     13890|         0| false|  false|    false|    true|         |\n",
      "|      2|2019-03-15 10:59:04|     18743|         0| false|  false|    false|    true|         |\n",
      "|      2|2019-03-15 10:59:04|     13890|         0| false|  false|    false|    true|         |\n",
      "+-------+-------------------+----------+----------+------+-------+---------+--------+---------+\n",
      "only showing top 20 rows\n",
      "\n"
     ]
    }
   ],
   "source": [
    "_res = user_action.rdd.flatMap(_compute)\n",
    "user_action_basic = _res.toDF([\"user_id\",\"action_time\",\"article_id\",\"channel_id\",\"shared\",\"clicked\",\"collected\",\"exposure\",\"read_time\"])\n",
    "user_action_basic.show()"
   ]
  },
  {
   "cell_type": "markdown",
   "metadata": {},
   "source": [
    "#### 与历史数据合并一起写入user_article_basic表"
   ]
  },
  {
   "cell_type": "code",
   "execution_count": 9,
   "metadata": {},
   "outputs": [],
   "source": [
    "old = uup.spark.sql(\"select * from user_article_basic\")"
   ]
  },
  {
   "cell_type": "code",
   "execution_count": 10,
   "metadata": {},
   "outputs": [],
   "source": [
    "new = old.unionAll(user_action_basic)"
   ]
  },
  {
   "cell_type": "code",
   "execution_count": 11,
   "metadata": {},
   "outputs": [
    {
     "data": {
      "text/plain": [
       "DataFrame[]"
      ]
     },
     "execution_count": 11,
     "metadata": {},
     "output_type": "execute_result"
    }
   ],
   "source": [
    "new.registerTempTable('temptable')\n",
    "uup.spark.sql(\n",
    "        \"insert overwrite table user_article_basic select user_id, max(action_time) as action_time, \"\n",
    "        \"article_id, max(channel_id) as channel_id, max(shared) as shared, max(clicked) as clicked, \"\n",
    "        \"max(collected) as collected, max(exposure) as exposure, max(read_time) as read_time from temptable \"\n",
    "        \"group by user_id, article_id\")"
   ]
  },
  {
   "cell_type": "markdown",
   "metadata": {},
   "source": [
    "#### 用户画像关键词获取以及权重计算"
   ]
  },
  {
   "cell_type": "code",
   "execution_count": 12,
   "metadata": {},
   "outputs": [
    {
     "name": "stdout",
     "output_type": "stream",
     "text": [
      "+-------------------+-------------------+----------+------+-------+---------+--------+---------+\n",
      "|            user_id|        action_time|article_id|shared|clicked|collected|exposure|read_time|\n",
      "+-------------------+-------------------+----------+------+-------+---------+--------+---------+\n",
      "|1105045287866466304|2019-03-11 18:13:45|     14225| false|  false|    false|    true|         |\n",
      "|1106476833370537984|2019-03-15 16:46:50|     14208| false|  false|    false|    true|         |\n",
      "|                  1|2019-03-07 16:57:34|     44386| false|   true|    false|    true|    17850|\n",
      "|                  1|2019-03-11 18:13:11|     44696| false|  false|    false|    true|         |\n",
      "|                 10|2019-03-06 10:06:15|     43907| false|  false|    false|    true|         |\n",
      "|1105093883106164736|2019-03-12 11:35:01|    140357| false|  false|    false|    true|         |\n",
      "|1106473203766657024|2019-03-15 16:32:24|     16005| false|  false|    false|    true|         |\n",
      "|                 33|2019-03-06 18:24:11|     13570| false|  false|    false|    true|         |\n",
      "|                  1|2019-03-15 16:42:42|     17632| false|  false|    false|    true|         |\n",
      "|1106473203766657024|2019-03-15 16:32:24|     17665| false|  false|    false|    true|         |\n",
      "|                 10|2019-03-06 10:06:15|     44368| false|  false|    false|    true|         |\n",
      "|1105093883106164736|2019-03-11 21:11:33|     15750| false|  false|    false|    true|         |\n",
      "|                  2|2019-03-05 10:19:54|     44371| false|   true|    false|    true|      938|\n",
      "|1105105185656537088|2019-03-11 21:57:09|     44180| false|  false|    false|    true|         |\n",
      "|1106396183141548032|2019-03-15 11:27:39|     43885| false|  false|    false|    true|         |\n",
      "|                  4|2019-03-09 10:13:00|     15196| false|  false|    false|    true|         |\n",
      "|                  4|2019-03-11 18:05:17|     18701| false|  false|    false|    true|         |\n",
      "|1105045287866466304|2019-03-11 18:14:39|     14668| false|  false|    false|    true|         |\n",
      "|1105045287866466304|2019-03-11 18:15:48|     14805| false|  false|    false|    true|         |\n",
      "|1106473203766657024|2019-03-15 22:22:44|     44664| false|  false|    false|    true|         |\n",
      "+-------------------+-------------------+----------+------+-------+---------+--------+---------+\n",
      "only showing top 20 rows\n",
      "\n"
     ]
    }
   ],
   "source": [
    "# 1、读取user_article_basic表\n",
    "user_basic = uup.spark.sql(\"select * from user_article_basic\").drop(\"channel_id\")\n",
    "user_basic.show()"
   ]
  },
  {
   "cell_type": "code",
   "execution_count": 13,
   "metadata": {},
   "outputs": [
    {
     "name": "stdout",
     "output_type": "stream",
     "text": [
      "+-------------------+-------------------+----------+------+-------+---------+--------+---------+\n",
      "|            user_id|        action_time|article_id|shared|clicked|collected|exposure|read_time|\n",
      "+-------------------+-------------------+----------+------+-------+---------+--------+---------+\n",
      "|1105045287866466304|2019-03-11 18:13:45|         1| false|  false|    false|    true|         |\n",
      "|1106476833370537984|2019-03-15 16:46:50|         2| false|  false|    false|    true|         |\n",
      "|                  1|2019-03-07 16:57:34|         3| false|   true|    false|    true|    17850|\n",
      "|                  1|2019-03-11 18:13:11|         4| false|  false|    false|    true|         |\n",
      "|                 10|2019-03-06 10:06:15|         5| false|  false|    false|    true|         |\n",
      "|1105093883106164736|2019-03-12 11:35:01|         6| false|  false|    false|    true|         |\n",
      "|1106473203766657024|2019-03-15 16:32:24|         7| false|  false|    false|    true|         |\n",
      "|                 33|2019-03-06 18:24:11|         8| false|  false|    false|    true|         |\n",
      "|                  1|2019-03-15 16:42:42|         9| false|  false|    false|    true|         |\n",
      "|1106473203766657024|2019-03-15 16:32:24|        10| false|  false|    false|    true|         |\n",
      "|                 10|2019-03-06 10:06:15|        10| false|  false|    false|    true|         |\n",
      "|1105093883106164736|2019-03-11 21:11:33|        10| false|  false|    false|    true|         |\n",
      "|                  2|2019-03-05 10:19:54|        10| false|   true|    false|    true|      938|\n",
      "|1105105185656537088|2019-03-11 21:57:09|        10| false|  false|    false|    true|         |\n",
      "|1106396183141548032|2019-03-15 11:27:39|        10| false|  false|    false|    true|         |\n",
      "|                  4|2019-03-09 10:13:00|        10| false|  false|    false|    true|         |\n",
      "|                  4|2019-03-11 18:05:17|        10| false|  false|    false|    true|         |\n",
      "|1105045287866466304|2019-03-11 18:14:39|        10| false|  false|    false|    true|         |\n",
      "|1105045287866466304|2019-03-11 18:15:48|        10| false|  false|    false|    true|         |\n",
      "|1106473203766657024|2019-03-15 22:22:44|        10| false|  false|    false|    true|         |\n",
      "+-------------------+-------------------+----------+------+-------+---------+--------+---------+\n",
      "only showing top 20 rows\n",
      "\n"
     ]
    }
   ],
   "source": [
    "# 因为测试数据的article_profile中只有1~10篇文章，与用户行为表的article_id没有交集，因此转换article_id\n",
    "def change_article_id(row):\n",
    "    if row.article_id == 14225:\n",
    "        article_id = 1\n",
    "    elif row.article_id == 14208:\n",
    "        article_id = 2\n",
    "    elif row.article_id == 44386:\n",
    "        article_id = 3\n",
    "    elif row.article_id == 44696:\n",
    "        article_id = 4\n",
    "    elif row.article_id == 43907:\n",
    "        article_id = 5\n",
    "    elif row.article_id == 140357:\n",
    "        article_id = 6\n",
    "    elif row.article_id == 16005:\n",
    "        article_id = 7 \n",
    "    elif row.article_id == 13570:\n",
    "        article_id = 8\n",
    "    elif row.article_id == 17632:\n",
    "        article_id = 9\n",
    "    else:\n",
    "        article_id = 10\n",
    "    return row.user_id,row.action_time,article_id,row.shared,row.clicked,row.collected,row.exposure,row.read_time\n",
    "\n",
    "user_basic = user_basic.rdd.map(change_article_id).toDF([\"user_id\",\"action_time\",\"article_id\",\"shared\",\"clicked\",\"collected\",\"exposure\",\"read_time\"])\n",
    "\n",
    "user_basic.show()"
   ]
  },
  {
   "cell_type": "code",
   "execution_count": 14,
   "metadata": {},
   "outputs": [
    {
     "name": "stdout",
     "output_type": "stream",
     "text": [
      "+----------+----------+--------------------------+\n",
      "|article_id|channel_id|                    topics|\n",
      "+----------+----------+--------------------------+\n",
      "|         7|        17|  [交易, eth, 合约, con...|\n",
      "|         6|        17|      [vue, https, &#, ...|\n",
      "|         9|        17|    [item, 关键, goLink...|\n",
      "|         5|        17|      [obj, name, let, ...|\n",
      "|         1|        17|      [props, child, sp...|\n",
      "|        10|        17|   [WebSocket, 源码, 程...|\n",
      "|         3|        17|[内存, Array, 数据类型,...|\n",
      "|         8|        17|  [模式, webpack, 插件,...|\n",
      "|         2|        17|    [match, 属性, node,...|\n",
      "|         4|        17|   [bin, nodejs, 数据库...|\n",
      "+----------+----------+--------------------------+\n",
      "\n"
     ]
    }
   ],
   "source": [
    "# 2.读取文章画像得主题词\n",
    "uup.spark.sql(\"use article\")\n",
    "article_topic = uup.spark.sql(\"select article_id,channel_id,topics from article_profile\")\n",
    "article_topic.show()"
   ]
  },
  {
   "cell_type": "code",
   "execution_count": 20,
   "metadata": {},
   "outputs": [
    {
     "name": "stdout",
     "output_type": "stream",
     "text": [
      "+----------+-------------------+-------------------+------+-------+---------+--------+---------+----------+--------------------------+\n",
      "|article_id|            user_id|        action_time|shared|clicked|collected|exposure|read_time|channel_id|                    topics|\n",
      "+----------+-------------------+-------------------+------+-------+---------+--------+---------+----------+--------------------------+\n",
      "|         1|1105045287866466304|2019-03-11 18:13:45| false|  false|    false|    true|         |        17|      [props, child, sp...|\n",
      "|         2|1106476833370537984|2019-03-15 16:46:50| false|  false|    false|    true|         |        17|    [match, 属性, node,...|\n",
      "|         3|                  1|2019-03-07 16:57:34| false|   true|    false|    true|    17850|        17|[内存, Array, 数据类型,...|\n",
      "|         4|                  1|2019-03-11 18:13:11| false|  false|    false|    true|         |        17|   [bin, nodejs, 数据库...|\n",
      "|         5|                 10|2019-03-06 10:06:15| false|  false|    false|    true|         |        17|      [obj, name, let, ...|\n",
      "|         6|1105093883106164736|2019-03-12 11:35:01| false|  false|    false|    true|         |        17|      [vue, https, &#, ...|\n",
      "|         7|1106473203766657024|2019-03-15 16:32:24| false|  false|    false|    true|         |        17|  [交易, eth, 合约, con...|\n",
      "|         8|                 33|2019-03-06 18:24:11| false|  false|    false|    true|         |        17|  [模式, webpack, 插件,...|\n",
      "|         9|                  1|2019-03-15 16:42:42| false|  false|    false|    true|         |        17|    [item, 关键, goLink...|\n",
      "|        10|1106473203766657024|2019-03-15 16:32:24| false|  false|    false|    true|         |        17|   [WebSocket, 源码, 程...|\n",
      "|        10|                 10|2019-03-06 10:06:15| false|  false|    false|    true|         |        17|   [WebSocket, 源码, 程...|\n",
      "|        10|1105093883106164736|2019-03-11 21:11:33| false|  false|    false|    true|         |        17|   [WebSocket, 源码, 程...|\n",
      "|        10|                  2|2019-03-05 10:19:54| false|   true|    false|    true|      938|        17|   [WebSocket, 源码, 程...|\n",
      "|        10|1105105185656537088|2019-03-11 21:57:09| false|  false|    false|    true|         |        17|   [WebSocket, 源码, 程...|\n",
      "|        10|1106396183141548032|2019-03-15 11:27:39| false|  false|    false|    true|         |        17|   [WebSocket, 源码, 程...|\n",
      "|        10|                  4|2019-03-09 10:13:00| false|  false|    false|    true|         |        17|   [WebSocket, 源码, 程...|\n",
      "|        10|                  4|2019-03-11 18:05:17| false|  false|    false|    true|         |        17|   [WebSocket, 源码, 程...|\n",
      "|        10|1105045287866466304|2019-03-11 18:14:39| false|  false|    false|    true|         |        17|   [WebSocket, 源码, 程...|\n",
      "|        10|1105045287866466304|2019-03-11 18:15:48| false|  false|    false|    true|         |        17|   [WebSocket, 源码, 程...|\n",
      "|        10|1106473203766657024|2019-03-15 22:22:44| false|  false|    false|    true|         |        17|   [WebSocket, 源码, 程...|\n",
      "+----------+-------------------+-------------------+------+-------+---------+--------+---------+----------+--------------------------+\n",
      "only showing top 20 rows\n",
      "\n"
     ]
    }
   ],
   "source": [
    "# 3.合并用户行为表与文章主题词\n",
    "user_topic = user_basic.join(article_topic,on=['article_id'],how='left')\n",
    "user_topic.show()"
   ]
  },
  {
   "cell_type": "code",
   "execution_count": 21,
   "metadata": {},
   "outputs": [
    {
     "name": "stdout",
     "output_type": "stream",
     "text": [
      "+----------+-------------------+-------------------+------+-------+---------+--------+---------+----------+-----------+\n",
      "|article_id|            user_id|        action_time|shared|clicked|collected|exposure|read_time|channel_id|      topic|\n",
      "+----------+-------------------+-------------------+------+-------+---------+--------+---------+----------+-----------+\n",
      "|         1|1105045287866466304|2019-03-11 18:13:45| false|  false|    false|    true|         |        17|      props|\n",
      "|         1|1105045287866466304|2019-03-11 18:13:45| false|  false|    false|    true|         |        17|      child|\n",
      "|         1|1105045287866466304|2019-03-11 18:13:45| false|  false|    false|    true|         |        17|       span|\n",
      "|         1|1105045287866466304|2019-03-11 18:13:45| false|  false|    false|    true|         |        17|       组件|\n",
      "|         1|1105045287866466304|2019-03-11 18:13:45| false|  false|    false|    true|         |        17|        Vue|\n",
      "|         1|1105045287866466304|2019-03-11 18:13:45| false|  false|    false|    true|         |        17|     String|\n",
      "|         1|1105045287866466304|2019-03-11 18:13:45| false|  false|    false|    true|         |        17|        for|\n",
      "|         1|1105045287866466304|2019-03-11 18:13:45| false|  false|    false|    true|         |        17|       数据|\n",
      "|         1|1105045287866466304|2019-03-11 18:13:45| false|  false|    false|    true|         |        17|  childNode|\n",
      "|         1|1105045287866466304|2019-03-11 18:13:45| false|  false|    false|    true|         |        17|forChildMsg|\n",
      "|         1|1105045287866466304|2019-03-11 18:13:45| false|  false|    false|    true|         |        17|        msg|\n",
      "|         2|1106476833370537984|2019-03-15 16:46:50| false|  false|    false|    true|         |        17|      match|\n",
      "|         2|1106476833370537984|2019-03-15 16:46:50| false|  false|    false|    true|         |        17|       属性|\n",
      "|         2|1106476833370537984|2019-03-15 16:46:50| false|  false|    false|    true|         |        17|       node|\n",
      "|         2|1106476833370537984|2019-03-15 16:46:50| false|  false|    false|    true|         |        17|       元素|\n",
      "|         2|1106476833370537984|2019-03-15 16:46:50| false|  false|    false|    true|         |        17|       节点|\n",
      "|         2|1106476833370537984|2019-03-15 16:46:50| false|  false|    false|    true|         |        17|      value|\n",
      "|         2|1106476833370537984|2019-03-15 16:46:50| false|  false|    false|    true|         |        17|       name|\n",
      "|         2|1106476833370537984|2019-03-15 16:46:50| false|  false|    false|    true|         |        17|   fragment|\n",
      "|         2|1106476833370537984|2019-03-15 16:46:50| false|  false|    false|    true|         |        17|       data|\n",
      "+----------+-------------------+-------------------+------+-------+---------+--------+---------+----------+-----------+\n",
      "only showing top 20 rows\n",
      "\n"
     ]
    }
   ],
   "source": [
    "import pyspark.sql.functions as F\n",
    "user_topic = user_topic.withColumn(\"topic\",F.explode(\"topics\")).drop(\"topics\")\n",
    "user_topic.show()"
   ]
  },
  {
   "cell_type": "code",
   "execution_count": 144,
   "metadata": {},
   "outputs": [],
   "source": [
    "# 4.计算用户关键词权重\n",
    "def compute_user_label_weights(partitions):\n",
    "\n",
    "    weightsOfaction = {\n",
    "        \"read_min\": 1,\n",
    "        \"read_middle\": 2,\n",
    "        \"collect\": 2,\n",
    "        \"share\": 3,\n",
    "        \"click\": 5\n",
    "    }\n",
    "    \n",
    "    # 导入包\n",
    "    from datetime import datetime\n",
    "    import numpy as np\n",
    "    import happybase\n",
    "    import json\n",
    "    \n",
    "    # 循环每个用户对应每个关键词处理\n",
    "    for row in partitions:\n",
    "        \n",
    "        # 计算时间系数\n",
    "        t = datetime.now() - datetime.strptime(row.action_time, '%Y-%m-%d %H:%M:%S')\n",
    "        alpha = 1 / (np.log(t.days + 1) + 1)\n",
    "        \n",
    "        # 判断一下这个关键词对应的操作文章时间大小的权重处理\n",
    "        if row.read_time  == '':\n",
    "            read_t = 0\n",
    "        else:\n",
    "            read_t = int(row.read_time)\n",
    "        \n",
    "        # 阅读时间的行为分数计算出来\n",
    "        read_score = weightsOfaction['read_middle'] if read_t > 1000 else weightsOfaction['read_min']\n",
    "        \n",
    "        # 计算row.topic的权重\n",
    "        weights = alpha * (row.shared * weightsOfaction['share'] + row.clicked * weightsOfaction['click'] +\n",
    "                          row.collected * weightsOfaction['collect'] + read_score) \n",
    "        \n",
    "        \n",
    "    pool = happybase.ConnectionPool(size=3, host='hadoop1')\n",
    "\n",
    "    with pool.connection() as conn:\n",
    "        table = conn.table('user_profile')\n",
    "        table.put('user:{}'.format(row.user_id).encode(),\n",
    "                  {'partial:{}:{}'.format(row.channel_id, row.topic).encode(): json.dumps(weights).encode()})\n",
    "        \n",
    "user_topic.foreachPartition(compute_user_label_weights)"
   ]
  },
  {
   "cell_type": "markdown",
   "metadata": {},
   "source": [
    "#### 将用户的基本信息也添加到用户画像"
   ]
  },
  {
   "cell_type": "code",
   "execution_count": 23,
   "metadata": {},
   "outputs": [],
   "source": [
    "uup.spark.sql(\"use toutiao\")\n",
    "user_basic = uup.spark.sql(\"select user_id,gender,birthday from user_profile\")\n",
    "\n",
    "def _update_user_basic(partition):\n",
    "    from datetime import datetime\n",
    "    import json\n",
    "    import happybase\n",
    "\n",
    "    pool = happybase.ConnectionPool(size=10,host='hadoop1')\n",
    "    for row in partition:\n",
    "\n",
    "        from datetime import date\n",
    "        age = 0\n",
    "        if row.birthday != 'null':\n",
    "            born = datetime.strptime(row.birthday,'%Y-%m-%d')\n",
    "            today = date.today()\n",
    "            age = today.year - born.year - ((today.month,today.month) < (born.month,born.day))\n",
    "\n",
    "        with pool.connection() as conn:\n",
    "            table = conn.table('user_profile')\n",
    "            table.put('user:{}'.format(row.user_id).encode(),\n",
    "                     {'basic:gender'.encode():json.dumps(row.gender).encode()})\n",
    "            table.put('user:{}'.format(row.user_id).encode(),\n",
    "                     {'basic:birthday'.encode():json.dumps(age).encode()})\n",
    "            conn.close()\n",
    "\n",
    "user_basic.foreachPartition(_update_user_basic)"
   ]
  },
  {
   "cell_type": "code",
   "execution_count": null,
   "metadata": {},
   "outputs": [],
   "source": []
  }
 ],
 "metadata": {
  "kernelspec": {
   "display_name": "Python 3",
   "language": "python",
   "name": "python3"
  },
  "language_info": {
   "codemirror_mode": {
    "name": "ipython",
    "version": 3
   },
   "file_extension": ".py",
   "mimetype": "text/x-python",
   "name": "python",
   "nbconvert_exporter": "python",
   "pygments_lexer": "ipython3",
   "version": "3.7.7"
  }
 },
 "nbformat": 4,
 "nbformat_minor": 4
}
